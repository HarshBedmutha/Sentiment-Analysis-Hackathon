{
 "cells": [
  {
   "cell_type": "code",
   "execution_count": 3,
   "metadata": {},
   "outputs": [],
   "source": [
    "import nltk\n",
    "from nltk.tokenize import word_tokenize\n",
    "from sklearn.feature_extraction.text import CountVectorizer,TfidfVectorizer"
   ]
  },
  {
   "cell_type": "code",
   "execution_count": 4,
   "metadata": {},
   "outputs": [],
   "source": [
    "import os\n",
    "os.chdir(\"C:\\Data Science\\Jupyter Notebook\\Hackathon 3\\data\")"
   ]
  },
  {
   "cell_type": "code",
   "execution_count": 5,
   "metadata": {
    "scrolled": true
   },
   "outputs": [
    {
     "data": {
      "application/javascript": [
       "\n",
       "        if (window._pyforest_update_imports_cell) { window._pyforest_update_imports_cell('import pandas as pd'); }\n",
       "    "
      ],
      "text/plain": [
       "<IPython.core.display.Javascript object>"
      ]
     },
     "metadata": {},
     "output_type": "display_data"
    }
   ],
   "source": [
    "df_main = pd.read_csv('train.csv')\n",
    "df = df_main.copy()"
   ]
  },
  {
   "cell_type": "code",
   "execution_count": 6,
   "metadata": {},
   "outputs": [
    {
     "data": {
      "text/plain": [
       "0     456\n",
       "1    4311\n",
       "2    2382\n",
       "3     125\n",
       "Name: sentiment, dtype: int64"
      ]
     },
     "execution_count": 6,
     "metadata": {},
     "output_type": "execute_result"
    }
   ],
   "source": [
    "# Target values\n",
    "df['sentiment'].value_counts().sort_index()"
   ]
  },
  {
   "cell_type": "markdown",
   "metadata": {},
   "source": [
    "## Bag of Words\n",
    "\n",
    "- It is a method to extract features from text documents.\n",
    "- These features can be used for training ML algorithms.\n",
    "- It is basically a vocabulary of all unique words occuring in the document in the training dataset."
   ]
  },
  {
   "cell_type": "code",
   "execution_count": 7,
   "metadata": {},
   "outputs": [],
   "source": [
    "# Bow_1 has list of words row wise so like every tweet is converted into a list of words.\n",
    "\n",
    "bow_1 = df['tweet'].apply(lambda x:word_tokenize(str(x)))\n",
    "# print(bow_1)"
   ]
  },
  {
   "cell_type": "code",
   "execution_count": 8,
   "metadata": {},
   "outputs": [],
   "source": [
    "# Bow_2 has Nested list form of Bow_1 so every list in Bow_1 is combined into one big Nested list.\n",
    "\n",
    "bow_2 = []\n",
    "for i in bow_1:\n",
    "    bow_2.append(i)\n",
    "# bow_2"
   ]
  },
  {
   "cell_type": "code",
   "execution_count": 9,
   "metadata": {},
   "outputs": [
    {
     "name": "stdout",
     "output_type": "stream",
     "text": [
      "177158\n",
      "***************************\n"
     ]
    }
   ],
   "source": [
    "# Bow_3 has Nested list flattened into a simple list so all the words used in tweets is present in Bow_3 as an element\n",
    "# and no nested list present but it has repetition of elements still present.\n",
    "\n",
    "bow_3 = []\n",
    "def reemovNestings(l): \n",
    "    for i in l: \n",
    "        if type(i) == list: \n",
    "            reemovNestings(i) \n",
    "        else: \n",
    "            bow_3.append(i)\n",
    "reemovNestings(bow_2)\n",
    "print(len(bow_3))\n",
    "print('***************************')\n",
    "# bow_3"
   ]
  },
  {
   "cell_type": "code",
   "execution_count": 10,
   "metadata": {},
   "outputs": [
    {
     "name": "stdout",
     "output_type": "stream",
     "text": [
      "11938\n",
      "*********************\n"
     ]
    }
   ],
   "source": [
    "# Bow_final has all unique words of tweets ready to be converted into features for ML Model.\n",
    "\n",
    "bow_final = list(set(bow_3))\n",
    "print(len(bow_final))\n",
    "print(\"*********************\")\n",
    "# bow_final"
   ]
  },
  {
   "cell_type": "markdown",
   "metadata": {},
   "source": [
    "## Count Vectorization"
   ]
  },
  {
   "cell_type": "code",
   "execution_count": 11,
   "metadata": {},
   "outputs": [],
   "source": [
    "# Count Vectorization\n",
    "\n",
    "from collections import Counter"
   ]
  },
  {
   "cell_type": "code",
   "execution_count": 12,
   "metadata": {},
   "outputs": [
    {
     "data": {
      "application/javascript": [
       "\n",
       "        if (window._pyforest_update_imports_cell) { window._pyforest_update_imports_cell('import pandas as pd'); }\n",
       "    "
      ],
      "text/plain": [
       "<IPython.core.display.Javascript object>"
      ]
     },
     "metadata": {},
     "output_type": "display_data"
    }
   ],
   "source": [
    "# Number of times each word is repeated\n",
    "\n",
    "count_vectorizer = dict(Counter(bow_3))\n",
    "count_df = (pd.DataFrame(count_vectorizer.values(),index=count_vectorizer.keys(),\n",
    "                         columns=['Count']).sort_values('Count',ascending=False))\n",
    "\n",
    "# count_df"
   ]
  },
  {
   "cell_type": "code",
   "execution_count": 13,
   "metadata": {},
   "outputs": [
    {
     "data": {
      "text/plain": [
       "(7273, 8872)"
      ]
     },
     "execution_count": 13,
     "metadata": {},
     "output_type": "execute_result"
    }
   ],
   "source": [
    "# Using sklearn's CountVectorizer\n",
    "# This data has only one Nan value at index 1274\n",
    "\n",
    "cv = CountVectorizer()\n",
    "# cv.set_params(stop_words='english')\n",
    "# cv.set_params(ngram_range=(1,2))\n",
    "# cv.set_params(max_df=0.5)\n",
    "# cv.set_params(min_df=2)\n",
    "all_text = df[['tweet']]\n",
    "all_text.columns = ['Tweets']\n",
    "cv.fit(all_text['Tweets'].dropna())\n",
    "vector = cv.transform(all_text['Tweets'].dropna()).toarray()\n",
    "vector.shape"
   ]
  },
  {
   "cell_type": "code",
   "execution_count": 14,
   "metadata": {},
   "outputs": [],
   "source": [
    "# Feature names\n",
    "\n",
    "# cv.get_feature_names()[:50]"
   ]
  },
  {
   "cell_type": "markdown",
   "metadata": {},
   "source": [
    "## TF-IDF\n",
    "\n",
    "- stands for Term Frequency - Inverse Document Frequency\n",
    "- it is a statistical measure used to evaluate hhow important a word is to a document in a collection or corpus.\n",
    "\n",
    "### TF\n",
    "\n",
    "- TF is the ratio of number of times a word appeared in one document to the number of words present in the document.\n",
    "- FORMULA :- TF = (Count of word in single document)/(Total no. of words in that document)\n",
    "\n",
    "### IDF\n",
    "\n",
    "- IDF is something that penalizes weights for the number of times it occurs in other documents.\n",
    "- IDF is a measure of how rare a term is. More rare a term higher the IDF score.\n",
    "- FORMULA :- IDF = log e((Total no. of documents)/(No. of documents with the word in it))\n",
    "\n",
    "## TF-IDF Score = TF * IDF"
   ]
  },
  {
   "cell_type": "code",
   "execution_count": 15,
   "metadata": {},
   "outputs": [
    {
     "data": {
      "text/plain": [
       "(7273, 8872)"
      ]
     },
     "execution_count": 15,
     "metadata": {},
     "output_type": "execute_result"
    }
   ],
   "source": [
    "tfidf = TfidfVectorizer()\n",
    "# tfidf.set_params(stop_words='english')\n",
    "# tfidf.set_params(ngram_range=(1,2))\n",
    "# tfidf.set_params(max_df=0.5)\n",
    "# tfidf.set_params(min_df=2)\n",
    "tfidf.fit(all_text['Tweets'].dropna())\n",
    "tfidf_vector = tfidf.transform(all_text['Tweets'].dropna()).toarray()\n",
    "tfidf_vector.shape"
   ]
  },
  {
   "cell_type": "code",
   "execution_count": 16,
   "metadata": {},
   "outputs": [],
   "source": [
    "# Feature Names\n",
    "\n",
    "# tfidf.get_feature_names()[:50]"
   ]
  },
  {
   "cell_type": "code",
   "execution_count": null,
   "metadata": {},
   "outputs": [],
   "source": []
  },
  {
   "cell_type": "code",
   "execution_count": null,
   "metadata": {},
   "outputs": [],
   "source": []
  }
 ],
 "metadata": {
  "kernelspec": {
   "display_name": "Python 3",
   "language": "python",
   "name": "python3"
  },
  "language_info": {
   "codemirror_mode": {
    "name": "ipython",
    "version": 3
   },
   "file_extension": ".py",
   "mimetype": "text/x-python",
   "name": "python",
   "nbconvert_exporter": "python",
   "pygments_lexer": "ipython3",
   "version": "3.7.4"
  }
 },
 "nbformat": 4,
 "nbformat_minor": 2
}
