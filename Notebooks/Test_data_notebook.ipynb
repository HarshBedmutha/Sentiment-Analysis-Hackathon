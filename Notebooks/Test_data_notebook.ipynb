{
 "cells": [
  {
   "cell_type": "code",
   "execution_count": 23,
   "metadata": {},
   "outputs": [],
   "source": [
    "import numpy as np\n",
    "import pandas as pd\n",
    "import matplotlib.pyplot as plt\n",
    "%matplotlib inline\n",
    "import seaborn as sns\n",
    "import warnings\n",
    "warnings.filterwarnings('ignore')\n",
    "from wordcloud import WordCloud, STOPWORDS\n",
    "#Display all the columns \n",
    "pd.set_option('display.max_columns',None)\n",
    "# Display full length the column\n",
    "pd.set_option('display.max_colwidth', -1)\n",
    "import re\n",
    "from nltk.corpus import stopwords\n",
    "import nltk\n",
    "from nltk.tokenize import sent_tokenize, word_tokenize\n",
    "from string import punctuation\n",
    "from nltk.stem.porter import *\n",
    "from gensim.models import Word2Vec,KeyedVectors\n",
    "from nltk.stem.porter import PorterStemmer\n",
    "from nltk.stem import WordNetLemmatizer \n",
    "from spellchecker import SpellChecker\n",
    "from sklearn.model_selection import train_test_split\n",
    "from sklearn.linear_model import LogisticRegression, SGDClassifier\n",
    "# nltk.download('stopwords')\n",
    "# nltk.download('wordnet')"
   ]
  },
  {
   "cell_type": "code",
   "execution_count": 24,
   "metadata": {},
   "outputs": [],
   "source": [
    "from html.parser import HTMLParser \n",
    "html = HTMLParser()"
   ]
  },
  {
   "cell_type": "code",
   "execution_count": 25,
   "metadata": {},
   "outputs": [],
   "source": [
    "import os\n",
    "os.chdir('C:\\Data Science\\Jupyter Notebook\\GitHackathon\\data\\Iter')"
   ]
  },
  {
   "cell_type": "code",
   "execution_count": 26,
   "metadata": {},
   "outputs": [],
   "source": [
    "clean_train_df = pd.read_csv('train_clean_data.csv')\n"
   ]
  },
  {
   "cell_type": "code",
   "execution_count": 27,
   "metadata": {},
   "outputs": [
    {
     "data": {
      "text/plain": [
       "'C:\\\\Data Science\\\\Jupyter Notebook\\\\GitHackathon\\\\data\\\\Iter'"
      ]
     },
     "execution_count": 27,
     "metadata": {},
     "output_type": "execute_result"
    }
   ],
   "source": [
    "pwd"
   ]
  },
  {
   "cell_type": "code",
   "execution_count": 28,
   "metadata": {},
   "outputs": [],
   "source": [
    "test_df = pd.read_csv('../../data/raw/test.csv')\n",
    "test_cdf = test_df.copy()"
   ]
  },
  {
   "cell_type": "code",
   "execution_count": 29,
   "metadata": {},
   "outputs": [],
   "source": [
    "test_cdf['tweet'] = test_cdf['tweet'].str.lower()"
   ]
  },
  {
   "cell_type": "code",
   "execution_count": 30,
   "metadata": {},
   "outputs": [],
   "source": [
    "test_cdf['tweet'] = test_cdf['tweet'].apply(lambda x: html.unescape(x))"
   ]
  },
  {
   "cell_type": "code",
   "execution_count": 31,
   "metadata": {},
   "outputs": [
    {
     "data": {
      "text/html": [
       "<div>\n",
       "<style scoped>\n",
       "    .dataframe tbody tr th:only-of-type {\n",
       "        vertical-align: middle;\n",
       "    }\n",
       "\n",
       "    .dataframe tbody tr th {\n",
       "        vertical-align: top;\n",
       "    }\n",
       "\n",
       "    .dataframe thead th {\n",
       "        text-align: right;\n",
       "    }\n",
       "</style>\n",
       "<table border=\"1\" class=\"dataframe\">\n",
       "  <thead>\n",
       "    <tr style=\"text-align: right;\">\n",
       "      <th></th>\n",
       "      <th>tweet_id</th>\n",
       "      <th>tweet</th>\n",
       "    </tr>\n",
       "  </thead>\n",
       "  <tbody>\n",
       "    <tr>\n",
       "      <td>0</td>\n",
       "      <td>7506</td>\n",
       "      <td>audience q: what prototyping tools do you use? sketchbooks/sharpie pens, photoshop, balsamic, google docs, axsure, etc. #myprototype #sxsw</td>\n",
       "    </tr>\n",
       "    <tr>\n",
       "      <td>1</td>\n",
       "      <td>7992</td>\n",
       "      <td>at sxsw? send your best photos &amp; videos to... {link} #citizen_journalism #cnn #ireport #photography #sxsw #cyber #iphone</td>\n",
       "    </tr>\n",
       "    <tr>\n",
       "      <td>2</td>\n",
       "      <td>247</td>\n",
       "      <td>@mention  and here's a pic of you winning your ipad! #unsix #sxsw cc @mention @mention  {link} (cont) {link}</td>\n",
       "    </tr>\n",
       "    <tr>\n",
       "      <td>3</td>\n",
       "      <td>7688</td>\n",
       "      <td>google marissa mayer: mobile phone as a cursor of physical location - new version of map fast and more real life like   #sxsw</td>\n",
       "    </tr>\n",
       "    <tr>\n",
       "      <td>4</td>\n",
       "      <td>3294</td>\n",
       "      <td>#sxsw google maps is even cooler than i thought</td>\n",
       "    </tr>\n",
       "    <tr>\n",
       "      <td>...</td>\n",
       "      <td>...</td>\n",
       "      <td>...</td>\n",
       "    </tr>\n",
       "    <tr>\n",
       "      <td>1814</td>\n",
       "      <td>1550</td>\n",
       "      <td>@mention @mention @mention hmmm....how fast can #apple build a new store in time for #sxsw  {link}</td>\n",
       "    </tr>\n",
       "    <tr>\n",
       "      <td>1815</td>\n",
       "      <td>1933</td>\n",
       "      <td>samsung galaxy s ii appears at fcc and team android #sxsw party {link} via @mention</td>\n",
       "    </tr>\n",
       "    <tr>\n",
       "      <td>1816</td>\n",
       "      <td>9052</td>\n",
       "      <td>@mention you could buy a new ipad 2 tmrw at the apple pop-up store at #sxsw: {link}</td>\n",
       "    </tr>\n",
       "    <tr>\n",
       "      <td>1817</td>\n",
       "      <td>4219</td>\n",
       "      <td>wow very long queue of people at apple pop up store now, some have bought 3 ipads! #sxsw@mention room#nokiaconnects</td>\n",
       "    </tr>\n",
       "    <tr>\n",
       "      <td>1818</td>\n",
       "      <td>7210</td>\n",
       "      <td>privacy could headline google circles social network reveal later today [social networks] {link} #aclu #googlecircles #sxsw</td>\n",
       "    </tr>\n",
       "  </tbody>\n",
       "</table>\n",
       "<p>1819 rows × 2 columns</p>\n",
       "</div>"
      ],
      "text/plain": [
       "      tweet_id  \\\n",
       "0     7506       \n",
       "1     7992       \n",
       "2     247        \n",
       "3     7688       \n",
       "4     3294       \n",
       "...    ...       \n",
       "1814  1550       \n",
       "1815  1933       \n",
       "1816  9052       \n",
       "1817  4219       \n",
       "1818  7210       \n",
       "\n",
       "                                                                                                                                           tweet  \n",
       "0     audience q: what prototyping tools do you use? sketchbooks/sharpie pens, photoshop, balsamic, google docs, axsure, etc. #myprototype #sxsw  \n",
       "1     at sxsw? send your best photos & videos to... {link} #citizen_journalism #cnn #ireport #photography #sxsw #cyber #iphone                    \n",
       "2     @mention  and here's a pic of you winning your ipad! #unsix #sxsw cc @mention @mention  {link} (cont) {link}                                \n",
       "3     google marissa mayer: mobile phone as a cursor of physical location - new version of map fast and more real life like   #sxsw               \n",
       "4     #sxsw google maps is even cooler than i thought                                                                                             \n",
       "...                                               ...                                                                                             \n",
       "1814  @mention @mention @mention hmmm....how fast can #apple build a new store in time for #sxsw  {link}                                          \n",
       "1815  samsung galaxy s ii appears at fcc and team android #sxsw party {link} via @mention                                                         \n",
       "1816  @mention you could buy a new ipad 2 tmrw at the apple pop-up store at #sxsw: {link}                                                         \n",
       "1817  wow very long queue of people at apple pop up store now, some have bought 3 ipads! #sxsw@mention room#nokiaconnects                         \n",
       "1818  privacy could headline google circles social network reveal later today [social networks] {link} #aclu #googlecircles #sxsw                 \n",
       "\n",
       "[1819 rows x 2 columns]"
      ]
     },
     "execution_count": 31,
     "metadata": {},
     "output_type": "execute_result"
    }
   ],
   "source": [
    "test_cdf"
   ]
  },
  {
   "cell_type": "code",
   "execution_count": 32,
   "metadata": {},
   "outputs": [],
   "source": [
    "# Adding unnecessary char to stop words\n",
    "stop_words = list(set(stopwords.words('english')))+list(punctuation)+['``', \"'s\", \"...\", \"n't\"]"
   ]
  },
  {
   "cell_type": "code",
   "execution_count": 33,
   "metadata": {},
   "outputs": [],
   "source": [
    "# creating tokens\n",
    "test_cdf['tweet'] = [nltk.word_tokenize(x) for x in test_cdf['tweet']]"
   ]
  },
  {
   "cell_type": "code",
   "execution_count": 34,
   "metadata": {},
   "outputs": [],
   "source": [
    "# Removing stop words \n",
    "test_cdf['tweet'] = test_cdf['tweet'].apply(lambda row: [word for word in row if word not in stop_words])\n",
    "\n",
    "#Applying the stemming\n",
    "\n",
    "# stemmer = PorterStemmer()\n",
    "# cdf['tweet_tokens'] = cdf['tweet_tokens'].apply(lambda x: [stemmer.stem(i) for i in x])\n",
    "# cdf['tokenized_tweet'] = cdf['tweet_tokens'].apply(lambda x: ' '.join(x))\n",
    "# cdf.head()\n"
   ]
  },
  {
   "cell_type": "code",
   "execution_count": 35,
   "metadata": {},
   "outputs": [
    {
     "data": {
      "text/html": [
       "<div>\n",
       "<style scoped>\n",
       "    .dataframe tbody tr th:only-of-type {\n",
       "        vertical-align: middle;\n",
       "    }\n",
       "\n",
       "    .dataframe tbody tr th {\n",
       "        vertical-align: top;\n",
       "    }\n",
       "\n",
       "    .dataframe thead th {\n",
       "        text-align: right;\n",
       "    }\n",
       "</style>\n",
       "<table border=\"1\" class=\"dataframe\">\n",
       "  <thead>\n",
       "    <tr style=\"text-align: right;\">\n",
       "      <th></th>\n",
       "      <th>tweet_id</th>\n",
       "      <th>tweet</th>\n",
       "    </tr>\n",
       "  </thead>\n",
       "  <tbody>\n",
       "    <tr>\n",
       "      <td>0</td>\n",
       "      <td>7506</td>\n",
       "      <td>audience q prototyping tool use sketchbooks/sharpie pen photoshop balsamic google doc axsure etc myprototype sxsw</td>\n",
       "    </tr>\n",
       "    <tr>\n",
       "      <td>1</td>\n",
       "      <td>7992</td>\n",
       "      <td>sxsw send best photo video link citizen_journalism cnn ireport photography sxsw cyber iphone</td>\n",
       "    </tr>\n",
       "    <tr>\n",
       "      <td>2</td>\n",
       "      <td>247</td>\n",
       "      <td>mention pic winning ipad unsix sxsw cc mention mention link cont link</td>\n",
       "    </tr>\n",
       "    <tr>\n",
       "      <td>3</td>\n",
       "      <td>7688</td>\n",
       "      <td>google marissa mayer mobile phone cursor physical location new version map fast real life like sxsw</td>\n",
       "    </tr>\n",
       "    <tr>\n",
       "      <td>4</td>\n",
       "      <td>3294</td>\n",
       "      <td>sxsw google map even cooler thought</td>\n",
       "    </tr>\n",
       "  </tbody>\n",
       "</table>\n",
       "</div>"
      ],
      "text/plain": [
       "   tweet_id  \\\n",
       "0  7506       \n",
       "1  7992       \n",
       "2  247        \n",
       "3  7688       \n",
       "4  3294       \n",
       "\n",
       "                                                                                                               tweet  \n",
       "0  audience q prototyping tool use sketchbooks/sharpie pen photoshop balsamic google doc axsure etc myprototype sxsw  \n",
       "1  sxsw send best photo video link citizen_journalism cnn ireport photography sxsw cyber iphone                       \n",
       "2  mention pic winning ipad unsix sxsw cc mention mention link cont link                                              \n",
       "3  google marissa mayer mobile phone cursor physical location new version map fast real life like sxsw                \n",
       "4  sxsw google map even cooler thought                                                                                "
      ]
     },
     "execution_count": 35,
     "metadata": {},
     "output_type": "execute_result"
    }
   ],
   "source": [
    "#Applying the lemmatizer\n",
    "\n",
    "lemma = WordNetLemmatizer()\n",
    "test_cdf['tweet'] = test_cdf['tweet'].apply(lambda x: [lemma.lemmatize(i) for i in x])\n",
    "test_cdf['tweet'] = test_cdf['tweet'].apply(lambda x: ' '.join(x))\n",
    "test_cdf.head()"
   ]
  },
  {
   "cell_type": "code",
   "execution_count": 36,
   "metadata": {},
   "outputs": [
    {
     "data": {
      "text/html": [
       "<div>\n",
       "<style scoped>\n",
       "    .dataframe tbody tr th:only-of-type {\n",
       "        vertical-align: middle;\n",
       "    }\n",
       "\n",
       "    .dataframe tbody tr th {\n",
       "        vertical-align: top;\n",
       "    }\n",
       "\n",
       "    .dataframe thead th {\n",
       "        text-align: right;\n",
       "    }\n",
       "</style>\n",
       "<table border=\"1\" class=\"dataframe\">\n",
       "  <thead>\n",
       "    <tr style=\"text-align: right;\">\n",
       "      <th></th>\n",
       "      <th>tweet_id</th>\n",
       "      <th>tweet</th>\n",
       "    </tr>\n",
       "  </thead>\n",
       "  <tbody>\n",
       "    <tr>\n",
       "      <td>0</td>\n",
       "      <td>7506</td>\n",
       "      <td>Audience Q: What prototyping tools do you use? Sketchbooks/sharpie pens, photoshop, Balsamic, Google docs, Axsure, etc. #myprototype #sxsw</td>\n",
       "    </tr>\n",
       "    <tr>\n",
       "      <td>1</td>\n",
       "      <td>7992</td>\n",
       "      <td>At SXSW? Send Your Best Photos &amp;amp; Videos to... {link} #citizen_journalism #cnn #ireport #photography #sxsw #Cyber #iPhone</td>\n",
       "    </tr>\n",
       "    <tr>\n",
       "      <td>2</td>\n",
       "      <td>247</td>\n",
       "      <td>@mention  and here's a pic of you winning your ipad! #unsix #sxsw cc @mention @mention  {link} (cont) {link}</td>\n",
       "    </tr>\n",
       "    <tr>\n",
       "      <td>3</td>\n",
       "      <td>7688</td>\n",
       "      <td>Google Marissa Mayer: mobile phone as a cursor of physical location - new version of map fast and more real life like   #sxsw</td>\n",
       "    </tr>\n",
       "    <tr>\n",
       "      <td>4</td>\n",
       "      <td>3294</td>\n",
       "      <td>#SXSW Google maps is even cooler than I thought</td>\n",
       "    </tr>\n",
       "    <tr>\n",
       "      <td>...</td>\n",
       "      <td>...</td>\n",
       "      <td>...</td>\n",
       "    </tr>\n",
       "    <tr>\n",
       "      <td>1814</td>\n",
       "      <td>1550</td>\n",
       "      <td>@mention @mention @mention Hmmm....how fast can #apple build a new store in time for #sxsw  {link}</td>\n",
       "    </tr>\n",
       "    <tr>\n",
       "      <td>1815</td>\n",
       "      <td>1933</td>\n",
       "      <td>Samsung Galaxy S II Appears At FCC And Team Android #SXSW Party {link} via @mention</td>\n",
       "    </tr>\n",
       "    <tr>\n",
       "      <td>1816</td>\n",
       "      <td>9052</td>\n",
       "      <td>@mention You could buy a new iPad 2 tmrw at the Apple pop-up store at #sxsw: {link}</td>\n",
       "    </tr>\n",
       "    <tr>\n",
       "      <td>1817</td>\n",
       "      <td>4219</td>\n",
       "      <td>Wow very long queue of people at apple pop up store now, some have bought 3 iPads! #sxsw@mention Room#NokiaConnects</td>\n",
       "    </tr>\n",
       "    <tr>\n",
       "      <td>1818</td>\n",
       "      <td>7210</td>\n",
       "      <td>Privacy Could Headline Google Circles Social Network Reveal Later Today [Social Networks] {link} #ACLU #GoogleCircles #SXSW</td>\n",
       "    </tr>\n",
       "  </tbody>\n",
       "</table>\n",
       "<p>1819 rows × 2 columns</p>\n",
       "</div>"
      ],
      "text/plain": [
       "      tweet_id  \\\n",
       "0     7506       \n",
       "1     7992       \n",
       "2     247        \n",
       "3     7688       \n",
       "4     3294       \n",
       "...    ...       \n",
       "1814  1550       \n",
       "1815  1933       \n",
       "1816  9052       \n",
       "1817  4219       \n",
       "1818  7210       \n",
       "\n",
       "                                                                                                                                           tweet  \n",
       "0     Audience Q: What prototyping tools do you use? Sketchbooks/sharpie pens, photoshop, Balsamic, Google docs, Axsure, etc. #myprototype #sxsw  \n",
       "1     At SXSW? Send Your Best Photos &amp; Videos to... {link} #citizen_journalism #cnn #ireport #photography #sxsw #Cyber #iPhone                \n",
       "2     @mention  and here's a pic of you winning your ipad! #unsix #sxsw cc @mention @mention  {link} (cont) {link}                                \n",
       "3     Google Marissa Mayer: mobile phone as a cursor of physical location - new version of map fast and more real life like   #sxsw               \n",
       "4     #SXSW Google maps is even cooler than I thought                                                                                             \n",
       "...                                               ...                                                                                             \n",
       "1814  @mention @mention @mention Hmmm....how fast can #apple build a new store in time for #sxsw  {link}                                          \n",
       "1815  Samsung Galaxy S II Appears At FCC And Team Android #SXSW Party {link} via @mention                                                         \n",
       "1816  @mention You could buy a new iPad 2 tmrw at the Apple pop-up store at #sxsw: {link}                                                         \n",
       "1817  Wow very long queue of people at apple pop up store now, some have bought 3 iPads! #sxsw@mention Room#NokiaConnects                         \n",
       "1818  Privacy Could Headline Google Circles Social Network Reveal Later Today [Social Networks] {link} #ACLU #GoogleCircles #SXSW                 \n",
       "\n",
       "[1819 rows x 2 columns]"
      ]
     },
     "execution_count": 36,
     "metadata": {},
     "output_type": "execute_result"
    }
   ],
   "source": [
    "test_df"
   ]
  },
  {
   "cell_type": "code",
   "execution_count": 15,
   "metadata": {},
   "outputs": [
    {
     "data": {
      "application/javascript": [
       "\n",
       "        if (window._pyforest_update_imports_cell) { window._pyforest_update_imports_cell('from sklearn.feature_extraction.text import TfidfVectorizer'); }\n",
       "    "
      ],
      "text/plain": [
       "<IPython.core.display.Javascript object>"
      ]
     },
     "metadata": {},
     "output_type": "display_data"
    }
   ],
   "source": [
    "# tfidf = TfidfVectorizer()\n",
    "# train_vector = tfidf.fit_transform(clean_train_df['tweet_tokens']).toarray()\n",
    "# test_vector = tfidf.transform(test_cdf['tweet']).toarray()"
   ]
  },
  {
   "cell_type": "code",
   "execution_count": 41,
   "metadata": {},
   "outputs": [],
   "source": [
    "from sklearn.feature_extraction.text import CountVectorizer\n",
    "cv = CountVectorizer()\n",
    "# cv.set_params(stop_words='english')\n",
    "# cv.set_params(ngram_range=(1,2))\n",
    "# cv.set_params(max_df=0.5)\n",
    "# cv.set_params(min_df=2)\n",
    "train_vector = cv.fit_transform(clean_train_df['tweet_tokens']).toarray()\n",
    "test_vector = cv.transform(test_cdf['tweet']).toarray()"
   ]
  },
  {
   "cell_type": "code",
   "execution_count": 42,
   "metadata": {},
   "outputs": [],
   "source": [
    "from sklearn.metrics import f1_score ,roc_auc_score\n",
    "from sklearn.naive_bayes import MultinomialNB"
   ]
  },
  {
   "cell_type": "code",
   "execution_count": 43,
   "metadata": {},
   "outputs": [],
   "source": [
    "nb = MultinomialNB()\n",
    "nb.fit(train_vector,clean_train_df['sentiment'])\n",
    "y_pred = nb.predict(test_vector)"
   ]
  },
  {
   "cell_type": "code",
   "execution_count": 44,
   "metadata": {},
   "outputs": [
    {
     "data": {
      "text/plain": [
       "1    1232\n",
       "2    555 \n",
       "0    32  \n",
       "dtype: int64"
      ]
     },
     "execution_count": 44,
     "metadata": {},
     "output_type": "execute_result"
    }
   ],
   "source": [
    "pd.Series(y_pred).value_counts()"
   ]
  },
  {
   "cell_type": "code",
   "execution_count": 45,
   "metadata": {},
   "outputs": [],
   "source": [
    "result = pd.concat([test_df['tweet_id'],pd.Series(y_pred)],keys=['ID','Y_pred'],axis=1,ignore_index=True,names=['ID','Y_Pred'])\n",
    "result.columns = ['tweet_id','sentiment']\n",
    "result1 = result.set_index('tweet_id')"
   ]
  },
  {
   "cell_type": "code",
   "execution_count": 46,
   "metadata": {},
   "outputs": [],
   "source": [
    "result1.to_csv(r'C:\\Data Science\\Jupyter Notebook\\GitHackathon\\result_submissions\\naive_bayes_cv_pred.csv')"
   ]
  },
  {
   "cell_type": "code",
   "execution_count": 21,
   "metadata": {},
   "outputs": [
    {
     "data": {
      "text/html": [
       "<div>\n",
       "<style scoped>\n",
       "    .dataframe tbody tr th:only-of-type {\n",
       "        vertical-align: middle;\n",
       "    }\n",
       "\n",
       "    .dataframe tbody tr th {\n",
       "        vertical-align: top;\n",
       "    }\n",
       "\n",
       "    .dataframe thead th {\n",
       "        text-align: right;\n",
       "    }\n",
       "</style>\n",
       "<table border=\"1\" class=\"dataframe\">\n",
       "  <thead>\n",
       "    <tr style=\"text-align: right;\">\n",
       "      <th></th>\n",
       "      <th>tweet_id</th>\n",
       "      <th>tweet</th>\n",
       "    </tr>\n",
       "  </thead>\n",
       "  <tbody>\n",
       "    <tr>\n",
       "      <td>0</td>\n",
       "      <td>7506</td>\n",
       "      <td>Audience Q: What prototyping tools do you use? Sketchbooks/sharpie pens, photoshop, Balsamic, Google docs, Axsure, etc. #myprototype #sxsw</td>\n",
       "    </tr>\n",
       "    <tr>\n",
       "      <td>1</td>\n",
       "      <td>7992</td>\n",
       "      <td>At SXSW? Send Your Best Photos &amp;amp; Videos to... {link} #citizen_journalism #cnn #ireport #photography #sxsw #Cyber #iPhone</td>\n",
       "    </tr>\n",
       "    <tr>\n",
       "      <td>2</td>\n",
       "      <td>247</td>\n",
       "      <td>@mention  and here's a pic of you winning your ipad! #unsix #sxsw cc @mention @mention  {link} (cont) {link}</td>\n",
       "    </tr>\n",
       "    <tr>\n",
       "      <td>3</td>\n",
       "      <td>7688</td>\n",
       "      <td>Google Marissa Mayer: mobile phone as a cursor of physical location - new version of map fast and more real life like   #sxsw</td>\n",
       "    </tr>\n",
       "    <tr>\n",
       "      <td>4</td>\n",
       "      <td>3294</td>\n",
       "      <td>#SXSW Google maps is even cooler than I thought</td>\n",
       "    </tr>\n",
       "    <tr>\n",
       "      <td>...</td>\n",
       "      <td>...</td>\n",
       "      <td>...</td>\n",
       "    </tr>\n",
       "    <tr>\n",
       "      <td>1814</td>\n",
       "      <td>1550</td>\n",
       "      <td>@mention @mention @mention Hmmm....how fast can #apple build a new store in time for #sxsw  {link}</td>\n",
       "    </tr>\n",
       "    <tr>\n",
       "      <td>1815</td>\n",
       "      <td>1933</td>\n",
       "      <td>Samsung Galaxy S II Appears At FCC And Team Android #SXSW Party {link} via @mention</td>\n",
       "    </tr>\n",
       "    <tr>\n",
       "      <td>1816</td>\n",
       "      <td>9052</td>\n",
       "      <td>@mention You could buy a new iPad 2 tmrw at the Apple pop-up store at #sxsw: {link}</td>\n",
       "    </tr>\n",
       "    <tr>\n",
       "      <td>1817</td>\n",
       "      <td>4219</td>\n",
       "      <td>Wow very long queue of people at apple pop up store now, some have bought 3 iPads! #sxsw@mention Room#NokiaConnects</td>\n",
       "    </tr>\n",
       "    <tr>\n",
       "      <td>1818</td>\n",
       "      <td>7210</td>\n",
       "      <td>Privacy Could Headline Google Circles Social Network Reveal Later Today [Social Networks] {link} #ACLU #GoogleCircles #SXSW</td>\n",
       "    </tr>\n",
       "  </tbody>\n",
       "</table>\n",
       "<p>1819 rows × 2 columns</p>\n",
       "</div>"
      ],
      "text/plain": [
       "      tweet_id  \\\n",
       "0     7506       \n",
       "1     7992       \n",
       "2     247        \n",
       "3     7688       \n",
       "4     3294       \n",
       "...    ...       \n",
       "1814  1550       \n",
       "1815  1933       \n",
       "1816  9052       \n",
       "1817  4219       \n",
       "1818  7210       \n",
       "\n",
       "                                                                                                                                           tweet  \n",
       "0     Audience Q: What prototyping tools do you use? Sketchbooks/sharpie pens, photoshop, Balsamic, Google docs, Axsure, etc. #myprototype #sxsw  \n",
       "1     At SXSW? Send Your Best Photos &amp; Videos to... {link} #citizen_journalism #cnn #ireport #photography #sxsw #Cyber #iPhone                \n",
       "2     @mention  and here's a pic of you winning your ipad! #unsix #sxsw cc @mention @mention  {link} (cont) {link}                                \n",
       "3     Google Marissa Mayer: mobile phone as a cursor of physical location - new version of map fast and more real life like   #sxsw               \n",
       "4     #SXSW Google maps is even cooler than I thought                                                                                             \n",
       "...                                               ...                                                                                             \n",
       "1814  @mention @mention @mention Hmmm....how fast can #apple build a new store in time for #sxsw  {link}                                          \n",
       "1815  Samsung Galaxy S II Appears At FCC And Team Android #SXSW Party {link} via @mention                                                         \n",
       "1816  @mention You could buy a new iPad 2 tmrw at the Apple pop-up store at #sxsw: {link}                                                         \n",
       "1817  Wow very long queue of people at apple pop up store now, some have bought 3 iPads! #sxsw@mention Room#NokiaConnects                         \n",
       "1818  Privacy Could Headline Google Circles Social Network Reveal Later Today [Social Networks] {link} #ACLU #GoogleCircles #SXSW                 \n",
       "\n",
       "[1819 rows x 2 columns]"
      ]
     },
     "execution_count": 21,
     "metadata": {},
     "output_type": "execute_result"
    }
   ],
   "source": [
    "test_df"
   ]
  },
  {
   "cell_type": "code",
   "execution_count": 138,
   "metadata": {},
   "outputs": [
    {
     "data": {
      "text/plain": [
       "True    1819\n",
       "Name: tweet_id, dtype: int64"
      ]
     },
     "execution_count": 138,
     "metadata": {},
     "output_type": "execute_result"
    }
   ],
   "source": [
    "(test_df['tweet_id'] == result['tweet_id'])"
   ]
  },
  {
   "cell_type": "code",
   "execution_count": null,
   "metadata": {},
   "outputs": [],
   "source": []
  }
 ],
 "metadata": {
  "kernelspec": {
   "display_name": "Python 3",
   "language": "python",
   "name": "python3"
  },
  "language_info": {
   "codemirror_mode": {
    "name": "ipython",
    "version": 3
   },
   "file_extension": ".py",
   "mimetype": "text/x-python",
   "name": "python",
   "nbconvert_exporter": "python",
   "pygments_lexer": "ipython3",
   "version": "3.7.4"
  }
 },
 "nbformat": 4,
 "nbformat_minor": 2
}
