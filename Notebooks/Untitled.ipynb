{
 "cells": [
  {
   "cell_type": "code",
   "execution_count": 2,
   "metadata": {},
   "outputs": [],
   "source": [
    "import numpy as np\n",
    "import pandas as pd\n",
    "import matplotlib.pyplot as plt\n",
    "%matplotlib inline"
   ]
  },
  {
   "cell_type": "code",
   "execution_count": 3,
   "metadata": {},
   "outputs": [],
   "source": [
    "dataframe = pd.read_csv('../data/train.csv')"
   ]
  },
  {
   "cell_type": "code",
   "execution_count": 8,
   "metadata": {},
   "outputs": [
    {
     "data": {
      "text/html": [
       "<div>\n",
       "<style scoped>\n",
       "    .dataframe tbody tr th:only-of-type {\n",
       "        vertical-align: middle;\n",
       "    }\n",
       "\n",
       "    .dataframe tbody tr th {\n",
       "        vertical-align: top;\n",
       "    }\n",
       "\n",
       "    .dataframe thead th {\n",
       "        text-align: right;\n",
       "    }\n",
       "</style>\n",
       "<table border=\"1\" class=\"dataframe\">\n",
       "  <thead>\n",
       "    <tr style=\"text-align: right;\">\n",
       "      <th></th>\n",
       "      <th>tweet_id</th>\n",
       "      <th>tweet</th>\n",
       "      <th>sentiment</th>\n",
       "    </tr>\n",
       "  </thead>\n",
       "  <tbody>\n",
       "    <tr>\n",
       "      <th>0</th>\n",
       "      <td>1701</td>\n",
       "      <td>#sxswnui #sxsw #apple defining language of tou...</td>\n",
       "      <td>1</td>\n",
       "    </tr>\n",
       "    <tr>\n",
       "      <th>1</th>\n",
       "      <td>1851</td>\n",
       "      <td>Learning ab Google doodles! All doodles should...</td>\n",
       "      <td>1</td>\n",
       "    </tr>\n",
       "    <tr>\n",
       "      <th>2</th>\n",
       "      <td>2689</td>\n",
       "      <td>one of the most in-your-face ex. of stealing t...</td>\n",
       "      <td>2</td>\n",
       "    </tr>\n",
       "    <tr>\n",
       "      <th>3</th>\n",
       "      <td>4525</td>\n",
       "      <td>This iPhone #SXSW app would b pretty awesome i...</td>\n",
       "      <td>0</td>\n",
       "    </tr>\n",
       "    <tr>\n",
       "      <th>4</th>\n",
       "      <td>3604</td>\n",
       "      <td>Line outside the Apple store in Austin waiting...</td>\n",
       "      <td>1</td>\n",
       "    </tr>\n",
       "    <tr>\n",
       "      <th>5</th>\n",
       "      <td>966</td>\n",
       "      <td>#technews One lone dude awaits iPad 2 at Apple...</td>\n",
       "      <td>1</td>\n",
       "    </tr>\n",
       "    <tr>\n",
       "      <th>6</th>\n",
       "      <td>1395</td>\n",
       "      <td>SXSW Tips, Prince, NPR Videos, Toy Shopping Wi...</td>\n",
       "      <td>1</td>\n",
       "    </tr>\n",
       "    <tr>\n",
       "      <th>7</th>\n",
       "      <td>8182</td>\n",
       "      <td>NU user RT @mention New #UberSocial for #iPhon...</td>\n",
       "      <td>1</td>\n",
       "    </tr>\n",
       "    <tr>\n",
       "      <th>8</th>\n",
       "      <td>8835</td>\n",
       "      <td>Free #SXSW sampler on iTunes {link} #FreeMusic</td>\n",
       "      <td>2</td>\n",
       "    </tr>\n",
       "    <tr>\n",
       "      <th>9</th>\n",
       "      <td>883</td>\n",
       "      <td>I think I might go all weekend without seeing ...</td>\n",
       "      <td>2</td>\n",
       "    </tr>\n",
       "    <tr>\n",
       "      <th>10</th>\n",
       "      <td>6398</td>\n",
       "      <td>RT @mention Official #SXSW App Û÷SXSW GOÛª b...</td>\n",
       "      <td>3</td>\n",
       "    </tr>\n",
       "    <tr>\n",
       "      <th>11</th>\n",
       "      <td>2369</td>\n",
       "      <td>It's official! I'm buying an iPad. #SXSW #elevate</td>\n",
       "      <td>2</td>\n",
       "    </tr>\n",
       "    <tr>\n",
       "      <th>12</th>\n",
       "      <td>3944</td>\n",
       "      <td>They're giving away iPad 2's, x boxes and book...</td>\n",
       "      <td>2</td>\n",
       "    </tr>\n",
       "    <tr>\n",
       "      <th>13</th>\n",
       "      <td>6909</td>\n",
       "      <td>RT @mention We're officially at #SXSW! Come by...</td>\n",
       "      <td>1</td>\n",
       "    </tr>\n",
       "    <tr>\n",
       "      <th>14</th>\n",
       "      <td>7917</td>\n",
       "      <td>#Companies to watch, from the #SXSW trade show...</td>\n",
       "      <td>1</td>\n",
       "    </tr>\n",
       "    <tr>\n",
       "      <th>15</th>\n",
       "      <td>5849</td>\n",
       "      <td>RT @mention Google Marissa Mayer, future of lo...</td>\n",
       "      <td>1</td>\n",
       "    </tr>\n",
       "    <tr>\n",
       "      <th>16</th>\n",
       "      <td>1955</td>\n",
       "      <td>DL the #Calyp App to get into #Calyp Casa at #...</td>\n",
       "      <td>1</td>\n",
       "    </tr>\n",
       "    <tr>\n",
       "      <th>17</th>\n",
       "      <td>1472</td>\n",
       "      <td>Well yeah.  Music &amp;gt; iPhone nerds RT @mentio...</td>\n",
       "      <td>2</td>\n",
       "    </tr>\n",
       "    <tr>\n",
       "      <th>18</th>\n",
       "      <td>4730</td>\n",
       "      <td>Apple Opens Pop Up Store at SXSW {link} via @m...</td>\n",
       "      <td>1</td>\n",
       "    </tr>\n",
       "    <tr>\n",
       "      <th>19</th>\n",
       "      <td>2166</td>\n",
       "      <td>@mention atleast you are at #sxsw. I'm not the...</td>\n",
       "      <td>1</td>\n",
       "    </tr>\n",
       "    <tr>\n",
       "      <th>20</th>\n",
       "      <td>3497</td>\n",
       "      <td>Cue the choir music #SXSW  @mention Apple Stor...</td>\n",
       "      <td>1</td>\n",
       "    </tr>\n",
       "    <tr>\n",
       "      <th>21</th>\n",
       "      <td>165</td>\n",
       "      <td>Anyone at #sxsw want an iPad 2? I'm in line an...</td>\n",
       "      <td>1</td>\n",
       "    </tr>\n",
       "    <tr>\n",
       "      <th>22</th>\n",
       "      <td>1352</td>\n",
       "      <td>_¼ÛÄ___ü ___¡  _____«_µ... &amp;gt;&amp;gt; @mention...</td>\n",
       "      <td>2</td>\n",
       "    </tr>\n",
       "    <tr>\n",
       "      <th>23</th>\n",
       "      <td>6431</td>\n",
       "      <td>RT @mention P.S. @mention and Google throw a b...</td>\n",
       "      <td>2</td>\n",
       "    </tr>\n",
       "    <tr>\n",
       "      <th>24</th>\n",
       "      <td>634</td>\n",
       "      <td>.@mention I have a 3G iPhone. After 3 hrs twee...</td>\n",
       "      <td>0</td>\n",
       "    </tr>\n",
       "    <tr>\n",
       "      <th>25</th>\n",
       "      <td>4544</td>\n",
       "      <td>does anyone know if google did talk about #cir...</td>\n",
       "      <td>1</td>\n",
       "    </tr>\n",
       "    <tr>\n",
       "      <th>26</th>\n",
       "      <td>568</td>\n",
       "      <td>ÛÏ@mention Google set to launch new social ne...</td>\n",
       "      <td>1</td>\n",
       "    </tr>\n",
       "    <tr>\n",
       "      <th>27</th>\n",
       "      <td>775</td>\n",
       "      <td>Google to Launch Major New Social Network Call...</td>\n",
       "      <td>1</td>\n",
       "    </tr>\n",
       "    <tr>\n",
       "      <th>28</th>\n",
       "      <td>5368</td>\n",
       "      <td>standing on a long line surrounded by unemploy...</td>\n",
       "      <td>3</td>\n",
       "    </tr>\n",
       "    <tr>\n",
       "      <th>29</th>\n",
       "      <td>3087</td>\n",
       "      <td>WOW! *Something Ventured* was a kick ass film....</td>\n",
       "      <td>1</td>\n",
       "    </tr>\n",
       "    <tr>\n",
       "      <th>...</th>\n",
       "      <td>...</td>\n",
       "      <td>...</td>\n",
       "      <td>...</td>\n",
       "    </tr>\n",
       "    <tr>\n",
       "      <th>7244</th>\n",
       "      <td>4996</td>\n",
       "      <td>Google looks to the future with mobile, locati...</td>\n",
       "      <td>1</td>\n",
       "    </tr>\n",
       "    <tr>\n",
       "      <th>7245</th>\n",
       "      <td>4887</td>\n",
       "      <td>Fantastico! RT @mention Marissa Mayer: Google ...</td>\n",
       "      <td>2</td>\n",
       "    </tr>\n",
       "    <tr>\n",
       "      <th>7246</th>\n",
       "      <td>5027</td>\n",
       "      <td>RT @mention \\r\\nAn Apple pop-uitp store at #SX...</td>\n",
       "      <td>1</td>\n",
       "    </tr>\n",
       "    <tr>\n",
       "      <th>7247</th>\n",
       "      <td>409</td>\n",
       "      <td>wishes he could be at the @mention / @mention ...</td>\n",
       "      <td>1</td>\n",
       "    </tr>\n",
       "    <tr>\n",
       "      <th>7248</th>\n",
       "      <td>392</td>\n",
       "      <td>Tomorrow, Charles Chen will be speaking about ...</td>\n",
       "      <td>1</td>\n",
       "    </tr>\n",
       "    <tr>\n",
       "      <th>7249</th>\n",
       "      <td>2556</td>\n",
       "      <td>Z7: Lead Don't Follow {link} [codes valid: 4:0...</td>\n",
       "      <td>1</td>\n",
       "    </tr>\n",
       "    <tr>\n",
       "      <th>7250</th>\n",
       "      <td>5467</td>\n",
       "      <td>RT @mention Apple sets up 5,000-square-foot te...</td>\n",
       "      <td>1</td>\n",
       "    </tr>\n",
       "    <tr>\n",
       "      <th>7251</th>\n",
       "      <td>5290</td>\n",
       "      <td>RT @mention #SXSW gear bag: iPad 2, iPhone, Mo...</td>\n",
       "      <td>1</td>\n",
       "    </tr>\n",
       "    <tr>\n",
       "      <th>7252</th>\n",
       "      <td>7145</td>\n",
       "      <td>Û÷Viagra for your communicationsÛª @mention ...</td>\n",
       "      <td>2</td>\n",
       "    </tr>\n",
       "    <tr>\n",
       "      <th>7253</th>\n",
       "      <td>4635</td>\n",
       "      <td>Interesting! RT @mention Google to Launch Majo...</td>\n",
       "      <td>1</td>\n",
       "    </tr>\n",
       "    <tr>\n",
       "      <th>7254</th>\n",
       "      <td>780</td>\n",
       "      <td>Google to Launch Major New Social Network Call...</td>\n",
       "      <td>1</td>\n",
       "    </tr>\n",
       "    <tr>\n",
       "      <th>7255</th>\n",
       "      <td>7424</td>\n",
       "      <td>Sweet, Apple's opening a pop-up shop in the Sc...</td>\n",
       "      <td>2</td>\n",
       "    </tr>\n",
       "    <tr>\n",
       "      <th>7256</th>\n",
       "      <td>6739</td>\n",
       "      <td>RT @mention the future is about networks, not ...</td>\n",
       "      <td>0</td>\n",
       "    </tr>\n",
       "    <tr>\n",
       "      <th>7257</th>\n",
       "      <td>3891</td>\n",
       "      <td>Did you miss Google's VP of Search, Marissa Ma...</td>\n",
       "      <td>1</td>\n",
       "    </tr>\n",
       "    <tr>\n",
       "      <th>7258</th>\n",
       "      <td>4284</td>\n",
       "      <td>@mention massive lines at #sxsw apple store......</td>\n",
       "      <td>2</td>\n",
       "    </tr>\n",
       "    <tr>\n",
       "      <th>7259</th>\n",
       "      <td>1179</td>\n",
       "      <td>Exploring the World in 3D with XML combines Go...</td>\n",
       "      <td>2</td>\n",
       "    </tr>\n",
       "    <tr>\n",
       "      <th>7260</th>\n",
       "      <td>6157</td>\n",
       "      <td>RT @mention iPad hipster #AustinCrowd #SXSW {l...</td>\n",
       "      <td>2</td>\n",
       "    </tr>\n",
       "    <tr>\n",
       "      <th>7261</th>\n",
       "      <td>3525</td>\n",
       "      <td>The new Whrrl app is now live in the iPhone ap...</td>\n",
       "      <td>2</td>\n",
       "    </tr>\n",
       "    <tr>\n",
       "      <th>7262</th>\n",
       "      <td>8056</td>\n",
       "      <td>Come see something new about Google SketchUp P...</td>\n",
       "      <td>1</td>\n",
       "    </tr>\n",
       "    <tr>\n",
       "      <th>7263</th>\n",
       "      <td>1273</td>\n",
       "      <td>There are two apple stores in ATX!! RT @mentio...</td>\n",
       "      <td>2</td>\n",
       "    </tr>\n",
       "    <tr>\n",
       "      <th>7264</th>\n",
       "      <td>8775</td>\n",
       "      <td>Heading over to ballroom b 'your mom has an ip...</td>\n",
       "      <td>1</td>\n",
       "    </tr>\n",
       "    <tr>\n",
       "      <th>7265</th>\n",
       "      <td>287</td>\n",
       "      <td>At #SXSW, Apple schools the marketing experts ...</td>\n",
       "      <td>2</td>\n",
       "    </tr>\n",
       "    <tr>\n",
       "      <th>7266</th>\n",
       "      <td>3362</td>\n",
       "      <td>@mention great stuff on Fri #SXSW: Marissa May...</td>\n",
       "      <td>2</td>\n",
       "    </tr>\n",
       "    <tr>\n",
       "      <th>7267</th>\n",
       "      <td>5222</td>\n",
       "      <td>The session #designingforkids is changing my m...</td>\n",
       "      <td>3</td>\n",
       "    </tr>\n",
       "    <tr>\n",
       "      <th>7268</th>\n",
       "      <td>8644</td>\n",
       "      <td>Great visualisation of the ghost movement logi...</td>\n",
       "      <td>2</td>\n",
       "    </tr>\n",
       "    <tr>\n",
       "      <th>7269</th>\n",
       "      <td>3343</td>\n",
       "      <td>@mention Google plze Tammi.  I'm in middle of ...</td>\n",
       "      <td>1</td>\n",
       "    </tr>\n",
       "    <tr>\n",
       "      <th>7270</th>\n",
       "      <td>5334</td>\n",
       "      <td>RT @mention ÷¼ Are you all set? ÷_ {link} ÷...</td>\n",
       "      <td>1</td>\n",
       "    </tr>\n",
       "    <tr>\n",
       "      <th>7271</th>\n",
       "      <td>5378</td>\n",
       "      <td>RT @mention Aha! Found proof of lactation room...</td>\n",
       "      <td>1</td>\n",
       "    </tr>\n",
       "    <tr>\n",
       "      <th>7272</th>\n",
       "      <td>2173</td>\n",
       "      <td>We just launched our iPad app at #SXSW! Get al...</td>\n",
       "      <td>1</td>\n",
       "    </tr>\n",
       "    <tr>\n",
       "      <th>7273</th>\n",
       "      <td>3162</td>\n",
       "      <td>The next fin serv battle is vs Apple, GOOG, Mo...</td>\n",
       "      <td>1</td>\n",
       "    </tr>\n",
       "  </tbody>\n",
       "</table>\n",
       "<p>7274 rows × 3 columns</p>\n",
       "</div>"
      ],
      "text/plain": [
       "      tweet_id                                              tweet  sentiment\n",
       "0         1701  #sxswnui #sxsw #apple defining language of tou...          1\n",
       "1         1851  Learning ab Google doodles! All doodles should...          1\n",
       "2         2689  one of the most in-your-face ex. of stealing t...          2\n",
       "3         4525  This iPhone #SXSW app would b pretty awesome i...          0\n",
       "4         3604  Line outside the Apple store in Austin waiting...          1\n",
       "5          966  #technews One lone dude awaits iPad 2 at Apple...          1\n",
       "6         1395  SXSW Tips, Prince, NPR Videos, Toy Shopping Wi...          1\n",
       "7         8182  NU user RT @mention New #UberSocial for #iPhon...          1\n",
       "8         8835     Free #SXSW sampler on iTunes {link} #FreeMusic          2\n",
       "9          883  I think I might go all weekend without seeing ...          2\n",
       "10        6398  RT @mention Official #SXSW App Û÷SXSW GOÛª b...          3\n",
       "11        2369  It's official! I'm buying an iPad. #SXSW #elevate          2\n",
       "12        3944  They're giving away iPad 2's, x boxes and book...          2\n",
       "13        6909  RT @mention We're officially at #SXSW! Come by...          1\n",
       "14        7917  #Companies to watch, from the #SXSW trade show...          1\n",
       "15        5849  RT @mention Google Marissa Mayer, future of lo...          1\n",
       "16        1955  DL the #Calyp App to get into #Calyp Casa at #...          1\n",
       "17        1472  Well yeah.  Music &gt; iPhone nerds RT @mentio...          2\n",
       "18        4730  Apple Opens Pop Up Store at SXSW {link} via @m...          1\n",
       "19        2166  @mention atleast you are at #sxsw. I'm not the...          1\n",
       "20        3497  Cue the choir music #SXSW  @mention Apple Stor...          1\n",
       "21         165  Anyone at #sxsw want an iPad 2? I'm in line an...          1\n",
       "22        1352  _¼ÛÄ___ü ___¡  _____«_µ... &gt;&gt; @mention...          2\n",
       "23        6431  RT @mention P.S. @mention and Google throw a b...          2\n",
       "24         634  .@mention I have a 3G iPhone. After 3 hrs twee...          0\n",
       "25        4544  does anyone know if google did talk about #cir...          1\n",
       "26         568  ÛÏ@mention Google set to launch new social ne...          1\n",
       "27         775  Google to Launch Major New Social Network Call...          1\n",
       "28        5368  standing on a long line surrounded by unemploy...          3\n",
       "29        3087  WOW! *Something Ventured* was a kick ass film....          1\n",
       "...        ...                                                ...        ...\n",
       "7244      4996  Google looks to the future with mobile, locati...          1\n",
       "7245      4887  Fantastico! RT @mention Marissa Mayer: Google ...          2\n",
       "7246      5027  RT @mention \\r\\nAn Apple pop-uitp store at #SX...          1\n",
       "7247       409  wishes he could be at the @mention / @mention ...          1\n",
       "7248       392  Tomorrow, Charles Chen will be speaking about ...          1\n",
       "7249      2556  Z7: Lead Don't Follow {link} [codes valid: 4:0...          1\n",
       "7250      5467  RT @mention Apple sets up 5,000-square-foot te...          1\n",
       "7251      5290  RT @mention #SXSW gear bag: iPad 2, iPhone, Mo...          1\n",
       "7252      7145  Û÷Viagra for your communicationsÛª @mention ...          2\n",
       "7253      4635  Interesting! RT @mention Google to Launch Majo...          1\n",
       "7254       780  Google to Launch Major New Social Network Call...          1\n",
       "7255      7424  Sweet, Apple's opening a pop-up shop in the Sc...          2\n",
       "7256      6739  RT @mention the future is about networks, not ...          0\n",
       "7257      3891  Did you miss Google's VP of Search, Marissa Ma...          1\n",
       "7258      4284  @mention massive lines at #sxsw apple store......          2\n",
       "7259      1179  Exploring the World in 3D with XML combines Go...          2\n",
       "7260      6157  RT @mention iPad hipster #AustinCrowd #SXSW {l...          2\n",
       "7261      3525  The new Whrrl app is now live in the iPhone ap...          2\n",
       "7262      8056  Come see something new about Google SketchUp P...          1\n",
       "7263      1273  There are two apple stores in ATX!! RT @mentio...          2\n",
       "7264      8775  Heading over to ballroom b 'your mom has an ip...          1\n",
       "7265       287  At #SXSW, Apple schools the marketing experts ...          2\n",
       "7266      3362  @mention great stuff on Fri #SXSW: Marissa May...          2\n",
       "7267      5222  The session #designingforkids is changing my m...          3\n",
       "7268      8644  Great visualisation of the ghost movement logi...          2\n",
       "7269      3343  @mention Google plze Tammi.  I'm in middle of ...          1\n",
       "7270      5334  RT @mention ÷¼ Are you all set? ÷_ {link} ÷...          1\n",
       "7271      5378  RT @mention Aha! Found proof of lactation room...          1\n",
       "7272      2173  We just launched our iPad app at #SXSW! Get al...          1\n",
       "7273      3162  The next fin serv battle is vs Apple, GOOG, Mo...          1\n",
       "\n",
       "[7274 rows x 3 columns]"
      ]
     },
     "execution_count": 8,
     "metadata": {},
     "output_type": "execute_result"
    }
   ],
   "source": [
    "dataframe[:]"
   ]
  },
  {
   "cell_type": "code",
   "execution_count": 9,
   "metadata": {},
   "outputs": [
    {
     "data": {
      "text/plain": [
       "1    4311\n",
       "2    2382\n",
       "0     456\n",
       "3     125\n",
       "Name: sentiment, dtype: int64"
      ]
     },
     "execution_count": 9,
     "metadata": {},
     "output_type": "execute_result"
    }
   ],
   "source": [
    "dataframe['sentiment'].value_counts()"
   ]
  },
  {
   "cell_type": "code",
   "execution_count": 5,
   "metadata": {},
   "outputs": [
    {
     "data": {
      "text/plain": [
       "(7274, 3)"
      ]
     },
     "execution_count": 5,
     "metadata": {},
     "output_type": "execute_result"
    }
   ],
   "source": [
    "dataframe.shape"
   ]
  },
  {
   "cell_type": "code",
   "execution_count": 7,
   "metadata": {},
   "outputs": [],
   "source": [
    "import nltk\n",
    "from nltk.tokenize import word_tokenize"
   ]
  },
  {
   "cell_type": "code",
   "execution_count": 23,
   "metadata": {},
   "outputs": [],
   "source": [
    "# dataframe_clean = dataframe.dropna(inplace=True)"
   ]
  },
  {
   "cell_type": "code",
   "execution_count": 24,
   "metadata": {},
   "outputs": [
    {
     "data": {
      "text/plain": [
       "tweet_id     0\n",
       "tweet        0\n",
       "sentiment    0\n",
       "dtype: int64"
      ]
     },
     "execution_count": 24,
     "metadata": {},
     "output_type": "execute_result"
    }
   ],
   "source": [
    "dataframe.isna().sum()"
   ]
  },
  {
   "cell_type": "code",
   "execution_count": null,
   "metadata": {},
   "outputs": [],
   "source": []
  },
  {
   "cell_type": "code",
   "execution_count": 27,
   "metadata": {},
   "outputs": [],
   "source": [
    "# dataframe"
   ]
  },
  {
   "cell_type": "code",
   "execution_count": 41,
   "metadata": {},
   "outputs": [],
   "source": [
    "# dataframe['tweet']"
   ]
  },
  {
   "cell_type": "code",
   "execution_count": 60,
   "metadata": {},
   "outputs": [],
   "source": [
    "string_1 = dataframe['tweet'].iloc[0]"
   ]
  },
  {
   "cell_type": "code",
   "execution_count": 61,
   "metadata": {},
   "outputs": [
    {
     "data": {
      "text/plain": [
       "'#sxswnui #sxsw #apple defining language of touch with different dialects becoming smaller'"
      ]
     },
     "execution_count": 61,
     "metadata": {},
     "output_type": "execute_result"
    }
   ],
   "source": [
    "string_1"
   ]
  },
  {
   "cell_type": "code",
   "execution_count": 64,
   "metadata": {},
   "outputs": [
    {
     "data": {
      "text/plain": [
       "7273"
      ]
     },
     "execution_count": 64,
     "metadata": {},
     "output_type": "execute_result"
    }
   ],
   "source": [
    "len(dataframe['tweet'])"
   ]
  },
  {
   "cell_type": "code",
   "execution_count": 66,
   "metadata": {},
   "outputs": [],
   "source": [
    "# bag_of_words\n",
    "# for i in range(len(dataframe['tweet'])):\n",
    "#     bag_of_word = word_tokenize(i)\n",
    "#     bag_of_words.append(bag_of_word)"
   ]
  },
  {
   "cell_type": "code",
   "execution_count": 82,
   "metadata": {},
   "outputs": [],
   "source": [
    "dataframe_words_lower = dataframe['tweet'].str.lower()"
   ]
  },
  {
   "cell_type": "code",
   "execution_count": 83,
   "metadata": {},
   "outputs": [],
   "source": [
    "dataframe_words = dataframe_words_lower.apply(lambda x:word_tokenize(str(x)))"
   ]
  },
  {
   "cell_type": "code",
   "execution_count": 94,
   "metadata": {},
   "outputs": [
    {
     "data": {
      "text/plain": [
       "0    [#, sxswnui, #, sxsw, #, apple, defining, lang...\n",
       "1    [learning, ab, google, doodles, !, all, doodle...\n",
       "2    [one, of, the, most, in-your-face, ex, ., of, ...\n",
       "3    [this, iphone, #, sxsw, app, would, b, pretty,...\n",
       "4    [line, outside, the, apple, store, in, austin,...\n",
       "Name: tweet, dtype: object"
      ]
     },
     "execution_count": 94,
     "metadata": {},
     "output_type": "execute_result"
    }
   ],
   "source": [
    "dataframe_words.head()"
   ]
  },
  {
   "cell_type": "code",
   "execution_count": 141,
   "metadata": {},
   "outputs": [
    {
     "data": {
      "text/plain": [
       "(7273, 8607)"
      ]
     },
     "execution_count": 141,
     "metadata": {},
     "output_type": "execute_result"
    }
   ],
   "source": [
    "all_text = dataframe[['tweet']]\n",
    "\n",
    "all_text = pd.DataFrame(all_text)\n",
    "\n",
    "all_text.columns = ['Tweet']\n",
    "\n",
    "all_text['Tweet'] = all_text['Tweet'].str.lower()\n",
    "\n",
    "# all_text\n",
    "\n",
    "\n",
    "\n",
    "\n",
    "\n",
    "# from collections import Counter\n",
    "\n",
    "# #Code starts here\n",
    "# count_vectorizer = Counter(dataframe_words_lower)\n",
    "# print(count_vectorizer)\n",
    "\n",
    "# dataframe_words_lower = dataframe_words.apply(lambda x:(str(x).lower))\n",
    "\n",
    "from sklearn.feature_extraction.text import CountVectorizer\n",
    "\n",
    "cv = CountVectorizer(stop_words='english')\n",
    "\n",
    "vector = cv.fit_transform(all_text['Tweet'])\n",
    "\n",
    "vector.shape"
   ]
  },
  {
   "cell_type": "code",
   "execution_count": 142,
   "metadata": {},
   "outputs": [],
   "source": [
    "from sklearn.metrics import accuracy_score,roc_auc_score\n",
    "from sklearn.linear_model import LogisticRegression\n",
    "from sklearn.model_selection import train_test_split\n",
    "from sklearn.feature_extraction.text import CountVectorizer"
   ]
  },
  {
   "cell_type": "code",
   "execution_count": 143,
   "metadata": {},
   "outputs": [],
   "source": [
    "X_train,X_test,y_train,y_test = train_test_split(vector.toarray(),dataframe['sentiment'],test_size=0.4,random_state=42)"
   ]
  },
  {
   "cell_type": "code",
   "execution_count": 144,
   "metadata": {},
   "outputs": [],
   "source": [
    "log_reg = LogisticRegression(random_state=42)"
   ]
  },
  {
   "cell_type": "code",
   "execution_count": 145,
   "metadata": {},
   "outputs": [
    {
     "name": "stderr",
     "output_type": "stream",
     "text": [
      "C:\\Users\\Vardhaman\\Anaconda3\\lib\\site-packages\\sklearn\\linear_model\\_logistic.py:940: ConvergenceWarning: lbfgs failed to converge (status=1):\n",
      "STOP: TOTAL NO. of ITERATIONS REACHED LIMIT.\n",
      "\n",
      "Increase the number of iterations (max_iter) or scale the data as shown in:\n",
      "    https://scikit-learn.org/stable/modules/preprocessing.html\n",
      "Please also refer to the documentation for alternative solver options:\n",
      "    https://scikit-learn.org/stable/modules/linear_model.html#logistic-regression\n",
      "  extra_warning_msg=_LOGISTIC_SOLVER_CONVERGENCE_MSG)\n"
     ]
    },
    {
     "name": "stdout",
     "output_type": "stream",
     "text": [
      "0.6821305841924399\n"
     ]
    }
   ],
   "source": [
    "log_reg.fit(X_train,y_train)\n",
    "y_pred = log_reg.predict(X_test)\n",
    "acc = accuracy_score(y_pred,y_test)\n",
    "print(acc)"
   ]
  },
  {
   "cell_type": "code",
   "execution_count": null,
   "metadata": {},
   "outputs": [],
   "source": []
  }
 ],
 "metadata": {
  "kernelspec": {
   "display_name": "Python 3",
   "language": "python",
   "name": "python3"
  },
  "language_info": {
   "codemirror_mode": {
    "name": "ipython",
    "version": 3
   },
   "file_extension": ".py",
   "mimetype": "text/x-python",
   "name": "python",
   "nbconvert_exporter": "python",
   "pygments_lexer": "ipython3",
   "version": "3.7.3"
  }
 },
 "nbformat": 4,
 "nbformat_minor": 2
}
