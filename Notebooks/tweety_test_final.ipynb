{
 "cells": [
  {
   "cell_type": "code",
   "execution_count": 50,
   "metadata": {},
   "outputs": [],
   "source": [
    "#Import Packages\n",
    "import numpy as np\n",
    "import pandas as pd\n",
    "import re\n",
    "import matplotlib.pyplot as plt\n",
    "import warnings\n",
    "import nltk\n",
    "import string\n",
    "import seaborn as sns\n",
    "from nltk.stem.porter import * \n",
    "from wordcloud import WordCloud\n",
    "\n",
    "warnings.filterwarnings('ignore')\n",
    "%matplotlib inline\n",
    "\n",
    "from sklearn.preprocessing import StandardScaler, Normalizer, MinMaxScaler\n",
    "from sklearn.model_selection import train_test_split\n",
    "from sklearn.decomposition import TruncatedSVD\n",
    "from sklearn.decomposition import NMF\n",
    "from sklearn.ensemble import RandomForestClassifier\n",
    "from xgboost import XGBClassifier\n",
    "\n"
   ]
  },
  {
   "cell_type": "code",
   "execution_count": 2,
   "metadata": {},
   "outputs": [
    {
     "data": {
      "text/plain": [
       "'C:\\\\Users\\\\Vardhaman\\\\Desktop\\\\DS\\\\Hackathon_3\\\\git_sentiment\\\\Notebooks'"
      ]
     },
     "execution_count": 2,
     "metadata": {},
     "output_type": "execute_result"
    }
   ],
   "source": [
    "pwd"
   ]
  },
  {
   "cell_type": "code",
<<<<<<< HEAD
   "execution_count": 17,
=======
   "execution_count": 3,
>>>>>>> 5351ab08a9d39e12489ae28779681bc46ebf9dab
   "metadata": {},
   "outputs": [],
   "source": [
    "df = pd.read_csv('../data/iter/rTrain.csv',index_col=0).dropna()\n",
    "train = df[['tweet_id','lemma_tweet','sentiment']]"
   ]
  },
  {
   "cell_type": "code",
<<<<<<< HEAD
   "execution_count": 18,
=======
   "execution_count": 4,
>>>>>>> 5351ab08a9d39e12489ae28779681bc46ebf9dab
   "metadata": {},
   "outputs": [
    {
     "data": {
      "text/html": [
       "<div>\n",
       "<style scoped>\n",
       "    .dataframe tbody tr th:only-of-type {\n",
       "        vertical-align: middle;\n",
       "    }\n",
       "\n",
       "    .dataframe tbody tr th {\n",
       "        vertical-align: top;\n",
       "    }\n",
       "\n",
       "    .dataframe thead th {\n",
       "        text-align: right;\n",
       "    }\n",
       "</style>\n",
       "<table border=\"1\" class=\"dataframe\">\n",
       "  <thead>\n",
       "    <tr style=\"text-align: right;\">\n",
       "      <th></th>\n",
       "      <th>tweet_id</th>\n",
       "      <th>lemma_tweet</th>\n",
       "      <th>sentiment</th>\n",
       "    </tr>\n",
       "  </thead>\n",
       "  <tbody>\n",
       "    <tr>\n",
       "      <td>0</td>\n",
       "      <td>1701</td>\n",
       "      <td>sxswnui define language touch different dialec...</td>\n",
       "      <td>1</td>\n",
       "    </tr>\n",
       "    <tr>\n",
       "      <td>1</td>\n",
       "      <td>1851</td>\n",
       "      <td>learn ab doodle doodle light funny amp innovat...</td>\n",
       "      <td>1</td>\n",
       "    </tr>\n",
       "    <tr>\n",
       "      <td>2</td>\n",
       "      <td>2689</td>\n",
       "      <td>one face ex steal show yrs rt school mkt expert</td>\n",
       "      <td>2</td>\n",
       "    </tr>\n",
       "    <tr>\n",
       "      <td>3</td>\n",
       "      <td>4525</td>\n",
       "      <td>app would b pretty awesome crash every min ext...</td>\n",
       "      <td>0</td>\n",
       "    </tr>\n",
       "    <tr>\n",
       "      <td>4</td>\n",
       "      <td>3604</td>\n",
       "      <td>line outside austin wait</td>\n",
       "      <td>1</td>\n",
       "    </tr>\n",
       "    <tr>\n",
       "      <td>...</td>\n",
       "      <td>...</td>\n",
       "      <td>...</td>\n",
       "      <td>...</td>\n",
       "    </tr>\n",
       "    <tr>\n",
       "      <td>7269</td>\n",
       "      <td>3343</td>\n",
       "      <td>plze tammi middle craziness everything sooo busy</td>\n",
       "      <td>1</td>\n",
       "    </tr>\n",
       "    <tr>\n",
       "      <td>7270</td>\n",
       "      <td>5334</td>\n",
       "      <td>set edchat musedchat sxswi newtwitter</td>\n",
       "      <td>1</td>\n",
       "    </tr>\n",
       "    <tr>\n",
       "      <td>7271</td>\n",
       "      <td>5378</td>\n",
       "      <td>aha find proof lactation room excuse mother ro...</td>\n",
       "      <td>1</td>\n",
       "    </tr>\n",
       "    <tr>\n",
       "      <td>7272</td>\n",
       "      <td>2173</td>\n",
       "      <td>launch app get detail first edition free</td>\n",
       "      <td>1</td>\n",
       "    </tr>\n",
       "    <tr>\n",
       "      <td>7273</td>\n",
       "      <td>3162</td>\n",
       "      <td>next fin serv battle vs goog mobile operator c...</td>\n",
       "      <td>1</td>\n",
       "    </tr>\n",
       "  </tbody>\n",
       "</table>\n",
       "<p>7271 rows × 3 columns</p>\n",
       "</div>"
      ],
      "text/plain": [
       "      tweet_id                                        lemma_tweet  sentiment\n",
       "0         1701  sxswnui define language touch different dialec...          1\n",
       "1         1851  learn ab doodle doodle light funny amp innovat...          1\n",
       "2         2689    one face ex steal show yrs rt school mkt expert          2\n",
       "3         4525  app would b pretty awesome crash every min ext...          0\n",
       "4         3604                           line outside austin wait          1\n",
       "...        ...                                                ...        ...\n",
       "7269      3343   plze tammi middle craziness everything sooo busy          1\n",
       "7270      5334              set edchat musedchat sxswi newtwitter          1\n",
       "7271      5378  aha find proof lactation room excuse mother ro...          1\n",
       "7272      2173           launch app get detail first edition free          1\n",
       "7273      3162  next fin serv battle vs goog mobile operator c...          1\n",
       "\n",
       "[7271 rows x 3 columns]"
      ]
     },
     "execution_count": 4,
     "metadata": {},
     "output_type": "execute_result"
    }
   ],
   "source": [
    "train"
   ]
  },
  {
   "cell_type": "code",
   "execution_count": 5,
   "metadata": {},
   "outputs": [],
   "source": [
    "from sklearn.feature_extraction.text import CountVectorizer,TfidfVectorizer\n",
    "cv = CountVectorizer()\n",
    "train_vector = cv.fit_transform(train['lemma_tweet'].dropna()).toarray()"
   ]
  },
  {
   "cell_type": "code",
<<<<<<< HEAD
<<<<<<< HEAD
   "execution_count": 13,
   "metadata": {},
   "outputs": [],
   "source": [
    "# stantdard scalar\n",
    "# train_vector_scalar = StandardScaler(with_mean=False).fit_transform(train_vector)"
   ]
  },
  {
   "cell_type": "code",
   "execution_count": 19,
   "metadata": {},
   "outputs": [],
   "source": [
    "X_train,X_test,y_train,y_test = train_test_split(train_vector_scalar,train['sentiment'],test_size=0.3,random_state=42)"
   ]
  },
  {
   "cell_type": "code",
   "execution_count": 38,
   "metadata": {},
   "outputs": [],
   "source": [
    "# X_test\n"
   ]
  },
  {
   "cell_type": "code",
   "execution_count": 39,
   "metadata": {},
   "outputs": [],
   "source": [
    "# cdf\n",
    "scaler = StandardScaler(with_mean=False)\n",
    "X_train = scaler.fit_transform(X_train)\n",
    "X_test = scaler.transform(X_test)\n",
    "# norma = Normalizer()\n",
    "# X_train = norma.fit_transform(X_train)\n",
    "# X_test=  norma.transform(X_test)\n",
    "\n",
    "# lsa = NMF(n_components=100)\n",
    "# mnb = MultinomialNB()\n",
    "\n",
    "# # train_text = vectorizer.fit_transform(raw_text_train)\n",
    "# X_train = lsa.fit_transform(X_train)\n",
    "# X_train = Normalizer(copy=False).fit_transform(X_train)\n",
    "# X_test = lsa.transform(X_test)\n",
    "# X_test = Normalizer(copy=False).transform(X_test)\n",
    "# mnb.fit(X_train,y_train)"
   ]
  },
  {
   "cell_type": "code",
   "execution_count": 40,
   "metadata": {},
   "outputs": [],
   "source": [
    "# from sklearn.naive_bayes import MultinomialNB\n",
    "# from sklearn.metrics import classification_report,confusion_matrix,f1_score\n",
    "\n",
    "# nb = MultinomialNB(alpha=0.01)\n",
    "# nb.fit(X_train,y_train)\n",
    "# y_pred = nb.predict(X_test)\n",
    "# # print(confusion_matrix(y_test,y_pred))   \n",
    "# # print(classification_report(y_test,y_pred))   \n",
    "# f1_score(y_test,y_pred,average='weighted')"
   ]
  },
  {
   "cell_type": "code",
   "execution_count": 42,
   "metadata": {},
   "outputs": [
    {
     "data": {
      "text/plain": [
       "RandomForestClassifier(bootstrap=True, ccp_alpha=0.0, class_weight=None,\n",
       "                       criterion='gini', max_depth=None, max_features='auto',\n",
       "                       max_leaf_nodes=None, max_samples=None,\n",
       "                       min_impurity_decrease=0.0, min_impurity_split=None,\n",
       "                       min_samples_leaf=1, min_samples_split=2,\n",
       "                       min_weight_fraction_leaf=0.0, n_estimators=100,\n",
       "                       n_jobs=None, oob_score=False, random_state=None,\n",
       "                       verbose=0, warm_start=False)"
      ]
     },
     "execution_count": 42,
     "metadata": {},
     "output_type": "execute_result"
    }
   ],
   "source": [
    "randomF = RandomForestClassifier()\n",
    "randomF.fit(X_train,y_train)"
   ]
  },
  {
   "cell_type": "code",
   "execution_count": 43,
   "metadata": {},
   "outputs": [],
   "source": [
    "y_pred = randomF.predict(X_test)"
   ]
  },
  {
   "cell_type": "code",
   "execution_count": 49,
=======
   "execution_count": 5,
>>>>>>> 5351ab08a9d39e12489ae28779681bc46ebf9dab
=======
   "execution_count": 6,
>>>>>>> 27c3bf6f01afcd4205bbbda2394a5f78742a90d3
   "metadata": {},
   "outputs": [
    {
     "data": {
<<<<<<< HEAD
=======
      "application/javascript": [
       "\n",
       "        if (window._pyforest_update_imports_cell) { window._pyforest_update_imports_cell('from sklearn.model_selection import train_test_split'); }\n",
       "    "
      ],
>>>>>>> 5351ab08a9d39e12489ae28779681bc46ebf9dab
      "text/plain": [
       "0.6255960496649039"
      ]
     },
     "execution_count": 49,
     "metadata": {},
     "output_type": "execute_result"
    }
   ],
   "source": [
<<<<<<< HEAD
    "f1_score(y_pred,y_test,average='weighted')"
=======
    "X_train,X_test,y_train,y_test = train_test_split(train_vector,df['sentiment'],test_size=0.3,random_state=42)\n",
    "# from imblearn.over_sampling import SMOTE\n",
    "# smote = SMOTE()\n",
    "# X_sample,y_sample = smote.fit_sample(train_vector,train['sentiment'])\n"
>>>>>>> 27c3bf6f01afcd4205bbbda2394a5f78742a90d3
   ]
  },
  {
   "cell_type": "code",
<<<<<<< HEAD
<<<<<<< HEAD
   "execution_count": 51,
=======
   "execution_count": 6,
>>>>>>> 5351ab08a9d39e12489ae28779681bc46ebf9dab
=======
   "execution_count": 7,
>>>>>>> 27c3bf6f01afcd4205bbbda2394a5f78742a90d3
   "metadata": {},
   "outputs": [
    {
     "data": {
      "text/plain": [
       "XGBClassifier(base_score=0.5, booster='gbtree', colsample_bylevel=1,\n",
       "              colsample_bynode=1, colsample_bytree=1, gamma=0,\n",
       "              learning_rate=0.1, max_delta_step=0, max_depth=3,\n",
       "              min_child_weight=1, missing=None, n_estimators=100, n_jobs=1,\n",
       "              nthread=None, objective='multi:softprob', random_state=0,\n",
       "              reg_alpha=0, reg_lambda=1, scale_pos_weight=1, seed=None,\n",
       "              silent=None, subsample=1, verbosity=1)"
      ]
     },
<<<<<<< HEAD
<<<<<<< HEAD
     "execution_count": 51,
=======
     "execution_count": 6,
>>>>>>> 5351ab08a9d39e12489ae28779681bc46ebf9dab
=======
     "execution_count": 7,
>>>>>>> 27c3bf6f01afcd4205bbbda2394a5f78742a90d3
     "metadata": {},
     "output_type": "execute_result"
    }
   ],
   "source": [
    "xgb = XGBClassifier()\n",
    "xgb.fit(X_train,y_train)"
   ]
  },
  {
   "cell_type": "code",
   "execution_count": 52,
   "metadata": {},
   "outputs": [],
   "source": [
    "y_pred_xg = xgb.predict(X_test)"
   ]
  },
  {
   "cell_type": "code",
   "execution_count": 55,
   "metadata": {},
   "outputs": [
    {
     "data": {
      "text/plain": [
       "0.7057583822296658"
      ]
     },
     "execution_count": 55,
     "metadata": {},
     "output_type": "execute_result"
    }
   ],
   "source": [
    "f1_score(y_pred_xg,y_test,average='weighted')"
   ]
  },
  {
   "cell_type": "markdown",
   "metadata": {},
   "source": [
    "# Test"
   ]
  },
  {
   "cell_type": "code",
<<<<<<< HEAD
<<<<<<< HEAD
   "execution_count": 9,
=======
   "execution_count": 7,
>>>>>>> 5351ab08a9d39e12489ae28779681bc46ebf9dab
=======
   "execution_count": 8,
>>>>>>> 27c3bf6f01afcd4205bbbda2394a5f78742a90d3
   "metadata": {},
   "outputs": [],
   "source": [
    "test = pd.read_csv('../data/raw/test.csv')"
   ]
  },
  {
   "cell_type": "code",
   "execution_count": 9,
   "metadata": {},
   "outputs": [],
   "source": [
    "# StopWord Removal\n",
    "\n",
    "#import nltk\n",
    "#nltk.download('stopwords')\n",
    "\n",
    "import string\n",
    "import re\n",
    "import nltk\n",
    " \n",
    "from nltk.corpus import stopwords \n",
    "stopwords_english = stopwords.words('english')\n",
    " \n",
    "from nltk.tokenize import TweetTokenizer\n",
    "\n",
    "from nltk.stem import WordNetLemmatizer\n",
    "from nltk.corpus import wordnet\n",
    "from textblob import TextBlob\n",
    " \n",
    "# Happy Emoticons\n",
    "emoticons_happy = set([\n",
    "    ':-)', ':)', ';)', ':o)', ':]', ':3', ':c)', ':>', '=]', '8)', '=)', ':}',\n",
    "    ':^)', ':-D', ':D', '8-D', '8D', 'x-D', 'xD', 'X-D', 'XD', '=-D', '=D',\n",
    "    '=-3', '=3', ':-))', \":'-)\", \":')\", ':*', ':^*', '>:P', ':-P', ':P', 'X-P',\n",
    "    'x-p', 'xp', 'XP', ':-p', ':p', '=p', ':-b', ':b', '>:)', '>;)', '>:-)',\n",
    "    '<3'\n",
    "    ])\n",
    " \n",
    "# Sad Emoticons\n",
    "emoticons_sad = set([\n",
    "    ':L', ':-/', '>:/', ':S', '>:[', ':@', ':-(', ':[', ':-||', '=L', ':<',\n",
    "    ':-[', ':-<', '=\\\\', '=/', '>:(', ':(', '>.<', \":'-(\", \":'(\", ':\\\\', ':-c',\n",
    "    ':c', ':{', '>:\\\\', ';('\n",
    "    ])\n",
    " \n",
    "# all emoticons (happy + sad)\n",
    "emoticons = emoticons_happy.union(emoticons_sad)\n",
    " \n",
    "# function to convert nltk tag to wordnet tag\n",
    "def nltk_tag_to_wordnet_tag(nltk_tag):\n",
    "    if nltk_tag.startswith('J'):\n",
    "        return wordnet.ADJ\n",
    "    elif nltk_tag.startswith('V'):\n",
    "        return wordnet.VERB\n",
    "    elif nltk_tag.startswith('N'):\n",
    "        return wordnet.NOUN\n",
    "    elif nltk_tag.startswith('R'):\n",
    "        return wordnet.ADV\n",
    "    else:          \n",
    "        return None\n",
    "    \n",
    "def lemmatize_sentence(sentence):\n",
    "    lemmatizer = WordNetLemmatizer()\n",
    "    tokenizer = TweetTokenizer(preserve_case=False, strip_handles=True, reduce_len=True)\n",
    "    nltk_tagged = nltk.pos_tag(tokenizer.tokenize(sentence))  \n",
    "    wordnet_tagged = map(lambda x: (x[0], nltk_tag_to_wordnet_tag(x[1])), nltk_tagged)\n",
    "    lemmatized_sentence = []\n",
    "    for word, tag in wordnet_tagged:\n",
    "          if (word not in stopwords_english and # remove stopwords\n",
    "              word not in emoticons and # remove emoticons\n",
    "                word not in string.punctuation): # remove punctuation\n",
    "                #tweet = str(TextBlob(word).correct())                \n",
    "                if tag is None:\n",
    "                    #if there is no available tag, append the token as is\n",
    "                    lemmatized_sentence.append(word)\n",
    "                else:        \n",
    "                    #else use the tag to lemmatize the token\n",
    "                    lemmatized_sentence.append(lemmatizer.lemmatize(word, tag))\n",
    "    return \" \".join(lemmatized_sentence)    \n",
    "    \n",
    "def clean_tweets(tweet):    \n",
    "    # remove numbers\n",
    "    tweet = tweet.lower()\n",
    "    tweet = re.sub(r'\\d+', '', tweet)\n",
    "    # remove stock market tickers like $GE\n",
    "    tweet = re.sub(r'\\$\\w*', '', tweet)\n",
    "    # remove old style retweet text \"RT\"\n",
    "    tweet = re.sub(r'^rt[\\s]+', '', tweet)\n",
    "    # remove hyperlinks\n",
    "    tweet = re.sub(r'https?:\\/\\/.*[\\r\\n]*', '', tweet)\n",
    "    tweet = re.sub('[^a-zA-Z]', ' ', tweet)\n",
    "    return lemmatize_sentence(tweet)"
   ]
  },
  {
   "cell_type": "code",
   "execution_count": 10,
   "metadata": {},
   "outputs": [],
   "source": [
    "rtest = test.copy()\n",
    "rtest['lemma_tweet'] = rtest.apply(lambda row: clean_tweets(str(row['tweet'])), axis=1)"
   ]
  },
  {
   "cell_type": "code",
   "execution_count": 11,
   "metadata": {},
   "outputs": [
    {
     "data": {
      "text/plain": [
       "sxsw       1933\n",
       "mention    1415\n",
       "link        871\n",
       "ipad        614\n",
       "google      552\n",
       "apple       456\n",
       "quot        336\n",
       "iphone      313\n",
       "store       294\n",
       "new         227\n",
       "dtype: int64"
      ]
     },
     "execution_count": 11,
     "metadata": {},
     "output_type": "execute_result"
    }
   ],
   "source": [
    "# rTrain = cTrain.copy()\n",
    "\n",
    "freq = pd.Series(' '.join(rtest['lemma_tweet']).split()).value_counts()[:10]\n",
    "freq\n",
    "# freq = list(freq.index)\n",
    "# rtest['lemma_tweet'] = rtest['lemma_tweet'].apply(lambda x: \" \".join(x for x in x.split() if x not in freq))\n",
    "\n",
    "# freq = pd.Series(' '.join(rtest['lemma_tweet']).split()).value_counts()[-10:]\n",
    "# freq\n",
    "# freq = list(freq.index)\n",
    "# rtest['lemma_tweet'] = rtest['lemma_tweet'].apply(lambda x: \" \".join(x for x in x.split() if x not in freq))\n",
    "# rtest.head()\n",
    "\n",
    "# rTrain.to_csv('../data/iter1/rTrain.csv') \n",
    "\n"
   ]
  },
  {
   "cell_type": "code",
   "execution_count": 12,
   "metadata": {},
   "outputs": [],
   "source": [
    "train_vector = cv.fit_transform(train['lemma_tweet'].dropna()).toarray()\n",
    "test_vector = cv.transform(rtest['lemma_tweet'].dropna()).toarray()"
   ]
  },
  {
   "cell_type": "code",
<<<<<<< HEAD
<<<<<<< HEAD
   "execution_count": null,
   "metadata": {},
   "outputs": [],
   "source": []
=======
=======
   "execution_count": 13,
   "metadata": {},
   "outputs": [
    {
     "data": {
      "text/plain": [
       "(7271, 7032)"
      ]
     },
     "execution_count": 13,
     "metadata": {},
     "output_type": "execute_result"
    }
   ],
   "source": [
    "train_vector.shape"
   ]
  },
  {
   "cell_type": "code",
>>>>>>> 27c3bf6f01afcd4205bbbda2394a5f78742a90d3
   "execution_count": 14,
   "metadata": {},
   "outputs": [],
   "source": [
    "# from imblearn.over_sampling import SMOTE\n",
    "# smote = SMOTE()\n",
    "\n",
    "# X_sample6,y_sample6 = smote.fit_sample(train_vector,train['sentiment'])\n",
    "\n",
    "# nb.fit(X_sample6,y_sample6)\n",
    "# smote_pred = pd.Series(nb.predict(test_vector))\n"
   ]
>>>>>>> 5351ab08a9d39e12489ae28779681bc46ebf9dab
  },
  {
   "cell_type": "code",
   "execution_count": 15,
   "metadata": {},
   "outputs": [],
   "source": [
    "# nb.fit(train_vector,train['sentiment'])\n",
    "# tweety_pred = pd.Series(nb.predict(test_vector))"
   ]
  },
  {
   "cell_type": "code",
   "execution_count": 16,
   "metadata": {},
   "outputs": [],
   "source": [
    "# pred_df = pd.concat([test['tweet_id'],tweety_pred],axis=1).set_index('tweet_id')\n",
    "# pred_df.columns = ['sentiment']"
   ]
  },
  {
   "cell_type": "code",
   "execution_count": 17,
   "metadata": {},
   "outputs": [],
   "source": [
    "# pred_df.to_csv(r'C:\\Data Science\\Jupyter Notebook\\GitHackathon\\result_submissions\\tweety_cv.csv')"
   ]
  },
  {
   "cell_type": "code",
   "execution_count": 18,
   "metadata": {},
   "outputs": [],
   "source": [
    "# pred_df = pd.concat([test['tweet_id'],smote_pred],axis=1).set_index('tweet_id')\n",
    "# pred_df.columns = ['sentiment']"
   ]
  },
  {
   "cell_type": "code",
   "execution_count": 19,
   "metadata": {},
   "outputs": [],
   "source": [
    "# pred_df.to_csv(r'C:\\Data Science\\Jupyter Notebook\\GitHackathon\\result_submissions\\smote_pred.csv')"
   ]
  },
  {
   "cell_type": "code",
   "execution_count": 20,
   "metadata": {},
   "outputs": [],
   "source": [
    "# pred_df['sentiment'].value_counts()"
   ]
  },
  {
   "cell_type": "markdown",
   "metadata": {},
   "source": [
    "# Plotter Test"
   ]
  },
  {
   "cell_type": "code",
   "execution_count": 21,
   "metadata": {},
   "outputs": [
    {
     "name": "stdout",
     "output_type": "stream",
     "text": [
      "21906\n",
      "***************************\n"
     ]
    },
    {
     "data": {
      "text/plain": [
       "Text(0.5, 1.0, 'Common Words')"
      ]
     },
     "execution_count": 21,
     "metadata": {},
     "output_type": "execute_result"
    },
    {
     "data": {
      "image/png": "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\n",
      "text/plain": [
       "<Figure size 432x288 with 1 Axes>"
      ]
     },
     "metadata": {
      "needs_background": "light"
     },
     "output_type": "display_data"
    }
   ],
   "source": [
    "from nltk.tokenize import word_tokenize\n",
    "\n",
    "from html.parser import HTMLParser\n",
    "html = HTMLParser()\n",
    "\n",
    "# Created a new columns i.e. tweet_html which do not contain html tags\n",
    "\n",
    "rtest['tweet_html'] = rtest['lemma_tweet'].apply(lambda x: html.unescape(x))\n",
    "rtest['tweet_html']\n",
    "bow_1 = rtest['tweet_html'].apply(lambda x:word_tokenize(str(x)))\n",
    "bow_1\n",
    "\n",
    "bow_2 = []\n",
    "for i in bow_1:\n",
    "    bow_2.append(i)\n",
    "bow_2\n",
    "\n",
    "bow_3 = []\n",
    "def reemovNestings(l): \n",
    "    for i in l: \n",
    "        if type(i) == list: \n",
    "            reemovNestings(i) \n",
    "        else: \n",
    "            bow_3.append(i)\n",
    "reemovNestings(bow_2)\n",
    "print(len(bow_3))\n",
    "print('***************************')\n",
    "bow_final = pd.Series(bow_3).value_counts()[:11]\n",
    "\n",
    "bow_df = pd.DataFrame(bow_final.drop(labels=['quot']))\n",
    "\n",
    "bow_df.columns = ['Freq']\n",
    "\n",
    "sns.barplot(x=bow_df.index,y=bow_df['Freq'])\n",
    "plt.xticks(rotation=90)\n",
    "plt.xlabel('Most Common words')\n",
    "plt.ylabel('Frequency')\n",
    "plt.title('Common Words')"
   ]
  },
  {
   "cell_type": "markdown",
   "metadata": {},
   "source": [
    "# Plotter Train"
   ]
  },
  {
   "cell_type": "code",
   "execution_count": 22,
   "metadata": {},
   "outputs": [],
   "source": [
    "train = pd.read_csv('../data/raw/train.csv').dropna()"
   ]
  },
  {
   "cell_type": "code",
   "execution_count": 23,
   "metadata": {},
   "outputs": [
    {
     "name": "stdout",
     "output_type": "stream",
     "text": [
      "172907\n"
     ]
    },
    {
     "data": {
      "text/plain": [
       "54                  1\n",
       "investment          1\n",
       "track..             1\n",
       "cactus              1\n",
       "17                  1\n",
       "dumbanddumber       1\n",
       "skewed              1\n",
       "dyac                1\n",
       "elevation           1\n",
       "iphone+android..    1\n",
       "beautifully         1\n",
       "trialled            1\n",
       "stopped             1\n",
       "peaked              1\n",
       "zing                1\n",
       "choir               1\n",
       "w/this              1\n",
       "creo                1\n",
       "couchfan            1\n",
       "flavor              1\n",
       "zeitgeist           1\n",
       "articles            1\n",
       "consolidate         1\n",
       "sports              1\n",
       "verification        1\n",
       "foursquareûªs      1\n",
       "ingenious           1\n",
       "continual           1\n",
       "ballrm              1\n",
       "two-week            1\n",
       "dtype: int64"
      ]
     },
     "execution_count": 23,
     "metadata": {},
     "output_type": "execute_result"
    }
   ],
   "source": [
    "train['tweet_html'] = train['tweet'].apply(lambda x: html.unescape(x))\n",
    "train['tweet_html'] = train['tweet_html'].str.lower()\n",
    "bow_1 = train['tweet_html'].apply(lambda x:word_tokenize(str(x)))\n",
    "bow_1\n",
    "\n",
    "bow_2 = []\n",
    "for i in bow_1:\n",
    "    bow_2.append(i)\n",
    "bow_2\n",
    "\n",
    "bow_3 = []\n",
    "def reemovNestings(l): \n",
    "    for i in l: \n",
    "        if type(i) == list: \n",
    "            reemovNestings(i) \n",
    "        else: \n",
    "            bow_3.append(i)\n",
    "reemovNestings(bow_2)\n",
    "print(len(bow_3))\n",
    "bow_3\n",
    "bow_4 = []\n",
    "punct = '!\"$%&#\\'()*+,-./:;<=>?@[\\\\]^_`{|}~û'\n",
    "no_punct = \"\"\n",
    "for word in bow_3:\n",
    "    if word not in punct:\n",
    "        bow_4.append(no_punct + word)\n",
    "train_common = pd.DataFrame(pd.Series(bow_4).value_counts()[:23].drop(labels=['the','to','at','for','a','in','is','of','and','i','on','2','\\'s']))\n",
    "pd.Series(bow_4).value_counts()[-30:]\n",
    "# bow_final = pd.Series(bow_3)\n",
    "# bow_final\n",
    "# .value_counts()[:15]\n",
    "\n",
    "# # bow_df = pd.DataFrame(bow_final.drop(labels=['quot']))\n",
    "\n",
    "# bow_final.columns = ['Freq']\n",
    "# bow_final\n",
    "# sns.barplot(x=bow_df.index,y=bow_df['Freq'])\n",
    "# plt.xticks(rotation=90)\n",
    "# plt.xlabel('Most Common words')\n",
    "# plt.ylabel('Frequency')\n",
    "# plt.title('Common Words')"
   ]
  },
  {
   "cell_type": "code",
   "execution_count": 24,
   "metadata": {},
   "outputs": [
    {
     "data": {
      "text/plain": [
       "Text(0.5, 1.0, 'Common Words')"
      ]
     },
     "execution_count": 24,
     "metadata": {},
     "output_type": "execute_result"
    },
    {
     "data": {
      "image/png": "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\n",
      "text/plain": [
       "<Figure size 432x288 with 1 Axes>"
      ]
     },
     "metadata": {
      "needs_background": "light"
     },
     "output_type": "display_data"
    }
   ],
   "source": [
    "train_common.columns = ['Freq']\n",
    "sns.barplot(x=train_common.index,y=train_common['Freq'])\n",
    "plt.xticks(rotation=90)\n",
    "plt.xlabel('Most Common words')\n",
    "plt.ylabel('Frequency')\n",
    "plt.title('Common Words')"
   ]
  },
  {
   "cell_type": "code",
   "execution_count": 25,
   "metadata": {},
   "outputs": [
    {
     "ename": "NameError",
     "evalue": "name 'hashlist' is not defined",
     "output_type": "error",
     "traceback": [
      "\u001b[1;31m---------------------------------------------------------------------------\u001b[0m",
      "\u001b[1;31mNameError\u001b[0m                                 Traceback (most recent call last)",
      "\u001b[1;32m<ipython-input-25-a8d332d59882>\u001b[0m in \u001b[0;36m<module>\u001b[1;34m\u001b[0m\n\u001b[0;32m      1\u001b[0m \u001b[0mcleanhashlist\u001b[0m \u001b[1;33m=\u001b[0m \u001b[1;33m[\u001b[0m\u001b[1;33m]\u001b[0m\u001b[1;33m\u001b[0m\u001b[1;33m\u001b[0m\u001b[0m\n\u001b[0;32m      2\u001b[0m \u001b[0mno_punct\u001b[0m \u001b[1;33m=\u001b[0m \u001b[1;34m\"\"\u001b[0m\u001b[1;33m\u001b[0m\u001b[1;33m\u001b[0m\u001b[0m\n\u001b[1;32m----> 3\u001b[1;33m \u001b[1;32mfor\u001b[0m \u001b[0mword\u001b[0m \u001b[1;32min\u001b[0m \u001b[0mhashlist\u001b[0m\u001b[1;33m:\u001b[0m\u001b[1;33m\u001b[0m\u001b[1;33m\u001b[0m\u001b[0m\n\u001b[0m\u001b[0;32m      4\u001b[0m     \u001b[1;32mif\u001b[0m \u001b[0mword\u001b[0m \u001b[1;32mnot\u001b[0m \u001b[1;32min\u001b[0m \u001b[0mpunct\u001b[0m\u001b[1;33m:\u001b[0m\u001b[1;33m\u001b[0m\u001b[1;33m\u001b[0m\u001b[0m\n\u001b[0;32m      5\u001b[0m         \u001b[0mcleanhashlist\u001b[0m\u001b[1;33m.\u001b[0m\u001b[0mappend\u001b[0m\u001b[1;33m(\u001b[0m\u001b[0mno_punct\u001b[0m \u001b[1;33m+\u001b[0m \u001b[0mword\u001b[0m\u001b[1;33m)\u001b[0m\u001b[1;33m\u001b[0m\u001b[1;33m\u001b[0m\u001b[0m\n",
      "\u001b[1;31mNameError\u001b[0m: name 'hashlist' is not defined"
     ]
    }
   ],
   "source": [
    "cleanhashlist = []\n",
    "no_punct = \"\"\n",
    "for word in hashlist:\n",
    "    if word not in punct:\n",
    "        cleanhashlist.append(no_punct + word)\n"
   ]
  },
  {
   "cell_type": "code",
   "execution_count": null,
   "metadata": {},
   "outputs": [],
   "source": []
  },
  {
   "cell_type": "code",
   "execution_count": 26,
   "metadata": {},
   "outputs": [
    {
     "data": {
      "text/plain": [
       "'Check in and offers through Google, cool. {link} #SXSW'"
      ]
     },
     "execution_count": 26,
     "metadata": {},
     "output_type": "execute_result"
    }
   ],
   "source": [
    "df = pd.read_csv('../data/raw/train.csv',index_col=0).dropna()\n",
    "df.tweet.iloc[32]"
   ]
  },
  {
   "cell_type": "code",
   "execution_count": 164,
   "metadata": {},
   "outputs": [
    {
     "data": {
      "text/html": [
       "<div>\n",
       "<style scoped>\n",
       "    .dataframe tbody tr th:only-of-type {\n",
       "        vertical-align: middle;\n",
       "    }\n",
       "\n",
       "    .dataframe tbody tr th {\n",
       "        vertical-align: top;\n",
       "    }\n",
       "\n",
       "    .dataframe thead th {\n",
       "        text-align: right;\n",
       "    }\n",
       "</style>\n",
       "<table border=\"1\" class=\"dataframe\">\n",
       "  <thead>\n",
       "    <tr style=\"text-align: right;\">\n",
       "      <th></th>\n",
       "      <th>tweet_id</th>\n",
       "      <th>lemma_tweet</th>\n",
       "      <th>sentiment</th>\n",
       "    </tr>\n",
       "  </thead>\n",
       "  <tbody>\n",
       "    <tr>\n",
       "      <td>0</td>\n",
       "      <td>1701</td>\n",
       "      <td>sxswnui define language touch different dialec...</td>\n",
       "      <td>1</td>\n",
       "    </tr>\n",
       "    <tr>\n",
       "      <td>1</td>\n",
       "      <td>1851</td>\n",
       "      <td>learn ab doodle doodle light funny amp innovat...</td>\n",
       "      <td>1</td>\n",
       "    </tr>\n",
       "    <tr>\n",
       "      <td>2</td>\n",
       "      <td>2689</td>\n",
       "      <td>one face ex steal show yrs rt school mkt expert</td>\n",
       "      <td>2</td>\n",
       "    </tr>\n",
       "    <tr>\n",
       "      <td>3</td>\n",
       "      <td>4525</td>\n",
       "      <td>app would b pretty awesome crash every min ext...</td>\n",
       "      <td>0</td>\n",
       "    </tr>\n",
       "    <tr>\n",
       "      <td>4</td>\n",
       "      <td>3604</td>\n",
       "      <td>line outside austin wait</td>\n",
       "      <td>1</td>\n",
       "    </tr>\n",
       "    <tr>\n",
       "      <td>...</td>\n",
       "      <td>...</td>\n",
       "      <td>...</td>\n",
       "      <td>...</td>\n",
       "    </tr>\n",
       "    <tr>\n",
       "      <td>7269</td>\n",
       "      <td>3343</td>\n",
       "      <td>plze tammi middle craziness everything sooo busy</td>\n",
       "      <td>1</td>\n",
       "    </tr>\n",
       "    <tr>\n",
       "      <td>7270</td>\n",
       "      <td>5334</td>\n",
       "      <td>set edchat musedchat sxswi newtwitter</td>\n",
       "      <td>1</td>\n",
       "    </tr>\n",
       "    <tr>\n",
       "      <td>7271</td>\n",
       "      <td>5378</td>\n",
       "      <td>aha find proof lactation room excuse mother ro...</td>\n",
       "      <td>1</td>\n",
       "    </tr>\n",
       "    <tr>\n",
       "      <td>7272</td>\n",
       "      <td>2173</td>\n",
       "      <td>launch app get detail first edition free</td>\n",
       "      <td>1</td>\n",
       "    </tr>\n",
       "    <tr>\n",
       "      <td>7273</td>\n",
       "      <td>3162</td>\n",
       "      <td>next fin serv battle vs goog mobile operator c...</td>\n",
       "      <td>1</td>\n",
       "    </tr>\n",
       "  </tbody>\n",
       "</table>\n",
       "<p>7271 rows × 3 columns</p>\n",
       "</div>"
      ],
      "text/plain": [
       "      tweet_id                                        lemma_tweet  sentiment\n",
       "0         1701  sxswnui define language touch different dialec...          1\n",
       "1         1851  learn ab doodle doodle light funny amp innovat...          1\n",
       "2         2689    one face ex steal show yrs rt school mkt expert          2\n",
       "3         4525  app would b pretty awesome crash every min ext...          0\n",
       "4         3604                           line outside austin wait          1\n",
       "...        ...                                                ...        ...\n",
       "7269      3343   plze tammi middle craziness everything sooo busy          1\n",
       "7270      5334              set edchat musedchat sxswi newtwitter          1\n",
       "7271      5378  aha find proof lactation room excuse mother ro...          1\n",
       "7272      2173           launch app get detail first edition free          1\n",
       "7273      3162  next fin serv battle vs goog mobile operator c...          1\n",
       "\n",
       "[7271 rows x 3 columns]"
      ]
     },
     "execution_count": 164,
     "metadata": {},
     "output_type": "execute_result"
    }
   ],
   "source": [
    "train"
   ]
  },
  {
   "cell_type": "code",
   "execution_count": null,
   "metadata": {},
   "outputs": [],
   "source": []
  }
 ],
 "metadata": {
  "kernelspec": {
   "display_name": "Python 3",
   "language": "python",
   "name": "python3"
  },
  "language_info": {
   "codemirror_mode": {
    "name": "ipython",
    "version": 3
   },
   "file_extension": ".py",
   "mimetype": "text/x-python",
   "name": "python",
   "nbconvert_exporter": "python",
   "pygments_lexer": "ipython3",
   "version": "3.7.3"
  }
 },
 "nbformat": 4,
 "nbformat_minor": 2
}
